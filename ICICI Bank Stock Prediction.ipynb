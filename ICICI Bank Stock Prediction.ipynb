{
 "cells": [
  {
   "cell_type": "code",
   "execution_count": 1,
   "id": "9eaac04e",
   "metadata": {},
   "outputs": [],
   "source": [
    "import math\n",
    "import pandas_datareader as web\n",
    "import numpy as np\n",
    "import pandas as pd\n",
    "from sklearn.preprocessing import MinMaxScaler\n",
    "from keras.models import Sequential\n",
    "from keras.layers import Dense, LSTM\n",
    "import matplotlib.pyplot as plt"
   ]
  },
  {
   "cell_type": "code",
   "execution_count": 3,
   "id": "e63cb132",
   "metadata": {},
   "outputs": [
    {
     "data": {
      "text/html": [
       "<div>\n",
       "<style scoped>\n",
       "    .dataframe tbody tr th:only-of-type {\n",
       "        vertical-align: middle;\n",
       "    }\n",
       "\n",
       "    .dataframe tbody tr th {\n",
       "        vertical-align: top;\n",
       "    }\n",
       "\n",
       "    .dataframe thead th {\n",
       "        text-align: right;\n",
       "    }\n",
       "</style>\n",
       "<table border=\"1\" class=\"dataframe\">\n",
       "  <thead>\n",
       "    <tr style=\"text-align: right;\">\n",
       "      <th></th>\n",
       "      <th>High</th>\n",
       "      <th>Low</th>\n",
       "      <th>Open</th>\n",
       "      <th>Close</th>\n",
       "      <th>Volume</th>\n",
       "      <th>Adj Close</th>\n",
       "    </tr>\n",
       "    <tr>\n",
       "      <th>Date</th>\n",
       "      <th></th>\n",
       "      <th></th>\n",
       "      <th></th>\n",
       "      <th></th>\n",
       "      <th></th>\n",
       "      <th></th>\n",
       "    </tr>\n",
       "  </thead>\n",
       "  <tbody>\n",
       "    <tr>\n",
       "      <th>2012-01-02</th>\n",
       "      <td>127.181816</td>\n",
       "      <td>124.563637</td>\n",
       "      <td>125.481819</td>\n",
       "      <td>126.645454</td>\n",
       "      <td>14927627.0</td>\n",
       "      <td>110.398727</td>\n",
       "    </tr>\n",
       "    <tr>\n",
       "      <th>2012-01-03</th>\n",
       "      <td>132.545456</td>\n",
       "      <td>128.181824</td>\n",
       "      <td>128.181824</td>\n",
       "      <td>131.963638</td>\n",
       "      <td>18500311.0</td>\n",
       "      <td>115.034676</td>\n",
       "    </tr>\n",
       "    <tr>\n",
       "      <th>2012-01-04</th>\n",
       "      <td>136.181824</td>\n",
       "      <td>132.800003</td>\n",
       "      <td>133.345459</td>\n",
       "      <td>135.109085</td>\n",
       "      <td>32952243.0</td>\n",
       "      <td>117.776611</td>\n",
       "    </tr>\n",
       "    <tr>\n",
       "      <th>2012-01-05</th>\n",
       "      <td>137.600006</td>\n",
       "      <td>134.363632</td>\n",
       "      <td>135.454544</td>\n",
       "      <td>136.018188</td>\n",
       "      <td>23203350.0</td>\n",
       "      <td>118.569077</td>\n",
       "    </tr>\n",
       "    <tr>\n",
       "      <th>2012-01-06</th>\n",
       "      <td>138.727264</td>\n",
       "      <td>132.363632</td>\n",
       "      <td>134.909088</td>\n",
       "      <td>136.672729</td>\n",
       "      <td>22273933.0</td>\n",
       "      <td>119.139679</td>\n",
       "    </tr>\n",
       "    <tr>\n",
       "      <th>...</th>\n",
       "      <td>...</td>\n",
       "      <td>...</td>\n",
       "      <td>...</td>\n",
       "      <td>...</td>\n",
       "      <td>...</td>\n",
       "      <td>...</td>\n",
       "    </tr>\n",
       "    <tr>\n",
       "      <th>2022-02-28</th>\n",
       "      <td>744.750000</td>\n",
       "      <td>715.400024</td>\n",
       "      <td>722.950012</td>\n",
       "      <td>742.700012</td>\n",
       "      <td>20547432.0</td>\n",
       "      <td>742.700012</td>\n",
       "    </tr>\n",
       "    <tr>\n",
       "      <th>2022-03-02</th>\n",
       "      <td>724.950012</td>\n",
       "      <td>707.750000</td>\n",
       "      <td>717.000000</td>\n",
       "      <td>714.849976</td>\n",
       "      <td>25252492.0</td>\n",
       "      <td>714.849976</td>\n",
       "    </tr>\n",
       "    <tr>\n",
       "      <th>2022-03-03</th>\n",
       "      <td>721.950012</td>\n",
       "      <td>693.450012</td>\n",
       "      <td>717.599976</td>\n",
       "      <td>698.299988</td>\n",
       "      <td>23190595.0</td>\n",
       "      <td>698.299988</td>\n",
       "    </tr>\n",
       "    <tr>\n",
       "      <th>2022-03-04</th>\n",
       "      <td>706.549988</td>\n",
       "      <td>685.000000</td>\n",
       "      <td>691.000000</td>\n",
       "      <td>688.049988</td>\n",
       "      <td>18697223.0</td>\n",
       "      <td>688.049988</td>\n",
       "    </tr>\n",
       "    <tr>\n",
       "      <th>2022-03-07</th>\n",
       "      <td>667.000000</td>\n",
       "      <td>642.150024</td>\n",
       "      <td>663.500000</td>\n",
       "      <td>653.750000</td>\n",
       "      <td>27796982.0</td>\n",
       "      <td>653.750000</td>\n",
       "    </tr>\n",
       "  </tbody>\n",
       "</table>\n",
       "<p>2509 rows × 6 columns</p>\n",
       "</div>"
      ],
      "text/plain": [
       "                  High         Low        Open       Close      Volume  \\\n",
       "Date                                                                     \n",
       "2012-01-02  127.181816  124.563637  125.481819  126.645454  14927627.0   \n",
       "2012-01-03  132.545456  128.181824  128.181824  131.963638  18500311.0   \n",
       "2012-01-04  136.181824  132.800003  133.345459  135.109085  32952243.0   \n",
       "2012-01-05  137.600006  134.363632  135.454544  136.018188  23203350.0   \n",
       "2012-01-06  138.727264  132.363632  134.909088  136.672729  22273933.0   \n",
       "...                ...         ...         ...         ...         ...   \n",
       "2022-02-28  744.750000  715.400024  722.950012  742.700012  20547432.0   \n",
       "2022-03-02  724.950012  707.750000  717.000000  714.849976  25252492.0   \n",
       "2022-03-03  721.950012  693.450012  717.599976  698.299988  23190595.0   \n",
       "2022-03-04  706.549988  685.000000  691.000000  688.049988  18697223.0   \n",
       "2022-03-07  667.000000  642.150024  663.500000  653.750000  27796982.0   \n",
       "\n",
       "             Adj Close  \n",
       "Date                    \n",
       "2012-01-02  110.398727  \n",
       "2012-01-03  115.034676  \n",
       "2012-01-04  117.776611  \n",
       "2012-01-05  118.569077  \n",
       "2012-01-06  119.139679  \n",
       "...                ...  \n",
       "2022-02-28  742.700012  \n",
       "2022-03-02  714.849976  \n",
       "2022-03-03  698.299988  \n",
       "2022-03-04  688.049988  \n",
       "2022-03-07  653.750000  \n",
       "\n",
       "[2509 rows x 6 columns]"
      ]
     },
     "execution_count": 3,
     "metadata": {},
     "output_type": "execute_result"
    }
   ],
   "source": [
    "df = web.DataReader('ICICIBANK.NS', data_source='yahoo',start='2012-01-01', end='2022-03-07')\n",
    "df"
   ]
  },
  {
   "cell_type": "code",
   "execution_count": 73,
   "id": "19f879c4",
   "metadata": {},
   "outputs": [
    {
     "data": {
      "text/plain": [
       "2033"
      ]
     },
     "execution_count": 73,
     "metadata": {},
     "output_type": "execute_result"
    }
   ],
   "source": [
    "data = df.filter(['Close'])\n",
    "dataset=data.values\n",
    "training_data_len = math.ceil(len(dataset)*.81)\n",
    "training_data_len"
   ]
  },
  {
   "cell_type": "code",
   "execution_count": 74,
   "id": "80115b57",
   "metadata": {},
   "outputs": [
    {
     "data": {
      "image/png": "[encoded data removed]",
      "text/plain": [
       "<Figure size 1152x576 with 1 Axes>"
      ]
     },
     "metadata": {
      "needs_background": "light"
     },
     "output_type": "display_data"
    }
   ],
   "source": [
    "plt.figure(figsize=(16,8))\n",
    "plt.title('Close Price History')\n",
    "plt.plot(df['Close'])\n",
    "plt.xlabel('Date',fontsize=18)\n",
    "plt.ylabel('Close Price (INR)',fontsize=18)\n",
    "plt.show()"
   ]
  },
  {
   "cell_type": "code",
   "execution_count": 75,
   "id": "bac145f7",
   "metadata": {},
   "outputs": [
    {
     "data": {
      "text/plain": [
       "array([[0.        ],\n",
       "       [0.00743745],\n",
       "       [0.01183634],\n",
       "       ...,\n",
       "       [0.79945583],\n",
       "       [0.78512126],\n",
       "       [0.73715291]])"
      ]
     },
     "execution_count": 75,
     "metadata": {},
     "output_type": "execute_result"
    }
   ],
   "source": [
    "scaler = MinMaxScaler(feature_range=(0,1))\n",
    "scaled_data = scaler.fit_transform(dataset)\n",
    "scaled_data"
   ]
  },
  {
   "cell_type": "code",
   "execution_count": 76,
   "id": "82818fda",
   "metadata": {},
   "outputs": [
    {
     "name": "stdout",
     "output_type": "stream",
     "text": [
      "[array([0.        , 0.00743745, 0.01183634, 0.01310772, 0.01402309,\n",
      "       0.01303143, 0.01982048, 0.02125713, 0.02157495, 0.02362184,\n",
      "       0.02416854, 0.02263018, 0.01858725, 0.02559245, 0.03709825,\n",
      "       0.04073433, 0.04869305, 0.04665887, 0.04866761, 0.03957739,\n",
      "       0.05227827, 0.04916345, 0.05232912, 0.05587623, 0.05886391,\n",
      "       0.06133035, 0.05693144, 0.0618516 , 0.05947417, 0.0605421 ,\n",
      "       0.06284327, 0.07236575, 0.06922548, 0.07248017, 0.07494659,\n",
      "       0.06640307, 0.06290684, 0.0597793 , 0.04854047, 0.05447773,\n",
      "       0.0533335 , 0.04753611, 0.05241812, 0.04419243, 0.03984439,\n",
      "       0.04159887, 0.05534225, 0.05909275, 0.05932159, 0.06543683,\n",
      "       0.0594106 , 0.05623219, 0.05374033, 0.05391832, 0.06038954,\n",
      "       0.05164259, 0.05441416, 0.04473912, 0.04611218, 0.04139544])]\n",
      "[0.040480068468538105]\n",
      "\n"
     ]
    }
   ],
   "source": [
    "train_data = scaled_data[0:training_data_len , :]\n",
    "x_train = []\n",
    "y_train = []\n",
    "\n",
    "for i in range(60, len(train_data)):\n",
    "    x_train.append(train_data[i-60:i, 0])\n",
    "    y_train.append(train_data[i, 0])\n",
    "    if i<=60:\n",
    "        print(x_train)\n",
    "        print(y_train)\n",
    "        print()"
   ]
  },
  {
   "cell_type": "code",
   "execution_count": 77,
   "id": "0d41fcb1",
   "metadata": {},
   "outputs": [],
   "source": [
    "x_train,y_train = np.array(x_train), np.array(y_train)"
   ]
  },
  {
   "cell_type": "code",
   "execution_count": 78,
   "id": "4b592822",
   "metadata": {},
   "outputs": [
    {
     "data": {
      "text/plain": [
       "(1973, 60, 1)"
      ]
     },
     "execution_count": 78,
     "metadata": {},
     "output_type": "execute_result"
    }
   ],
   "source": [
    "x_train = np.reshape(x_train,(x_train.shape[0],x_train.shape[1], 1))\n",
    "x_train.shape"
   ]
  },
  {
   "cell_type": "code",
   "execution_count": 79,
   "id": "a8f24acb",
   "metadata": {},
   "outputs": [],
   "source": [
    "model = Sequential()\n",
    "model.add(LSTM(50, return_sequences=True, input_shape = (x_train.shape[1],1)))\n",
    "model.add(LSTM(50, return_sequences=False))\n",
    "model.add(Dense(25))\n",
    "model.add(Dense(1))"
   ]
  },
  {
   "cell_type": "code",
   "execution_count": 80,
   "id": "1a3e0c08",
   "metadata": {},
   "outputs": [],
   "source": [
    "model.compile(optimizer='adam',loss='mean_squared_error')"
   ]
  },
  {
   "cell_type": "code",
   "execution_count": 81,
   "id": "18cf397b",
   "metadata": {},
   "outputs": [
    {
     "name": "stdout",
     "output_type": "stream",
     "text": [
      "1973/1973 [==============================] - 34s 16ms/step - loss: 6.8747e-04\n"
     ]
    },
    {
     "data": {
      "text/plain": [
       "<keras.callbacks.History at 0x21a212b0ee0>"
      ]
     },
     "execution_count": 81,
     "metadata": {},
     "output_type": "execute_result"
    }
   ],
   "source": [
    "model.fit(x_train, y_train, batch_size=1, epochs=1)"
   ]
  },
  {
   "cell_type": "code",
   "execution_count": 82,
   "id": "7e000b1a",
   "metadata": {},
   "outputs": [],
   "source": [
    "test_data = scaled_data[training_data_len-60: , :]\n",
    "x_test=[]\n",
    "y_test=dataset[training_data_len:, :]\n",
    "for i in range(60, len(test_data)):\n",
    "    x_test.append(test_data[i-60:i, 0])"
   ]
  },
  {
   "cell_type": "code",
   "execution_count": 83,
   "id": "a2871128",
   "metadata": {},
   "outputs": [],
   "source": [
    "x_test = np.array(x_test)"
   ]
  },
  {
   "cell_type": "code",
   "execution_count": 84,
   "id": "1dda0013",
   "metadata": {},
   "outputs": [],
   "source": [
    "x_test = np.reshape(x_test, (x_test.shape[0], x_test.shape[1], 1))"
   ]
  },
  {
   "cell_type": "code",
   "execution_count": 85,
   "id": "2de91db2",
   "metadata": {},
   "outputs": [],
   "source": [
    "predictions = model.predict(x_test)\n",
    "predictions = scaler.inverse_transform(predictions)"
   ]
  },
  {
   "cell_type": "code",
   "execution_count": 86,
   "id": "39f0b218",
   "metadata": {},
   "outputs": [
    {
     "data": {
      "text/plain": [
       "7.070150679900866"
      ]
     },
     "execution_count": 86,
     "metadata": {},
     "output_type": "execute_result"
    }
   ],
   "source": [
    "rmse = np.sqrt(np.mean(predictions - y_test)**2)\n",
    "rmse"
   ]
  },
  {
   "cell_type": "code",
   "execution_count": 87,
   "id": "6db649ec",
   "metadata": {},
   "outputs": [
    {
     "name": "stderr",
     "output_type": "stream",
     "text": [
      "C:\\Users\\kapoo\\AppData\\Local\\Temp/ipykernel_11024/3428246292.py:3: SettingWithCopyWarning: \n",
      "A value is trying to be set on a copy of a slice from a DataFrame.\n",
      "Try using .loc[row_indexer,col_indexer] = value instead\n",
      "\n",
      "See the caveats in the documentation: https://pandas.pydata.org/pandas-docs/stable/user_guide/indexing.html#returning-a-view-versus-a-copy\n",
      "  valid['Predictions'] = predictions\n"
     ]
    },
    {
     "data": {
      "image/png": "[encoded data removed]",
      "text/plain": [
       "<Figure size 1152x576 with 1 Axes>"
      ]
     },
     "metadata": {
      "needs_background": "light"
     },
     "output_type": "display_data"
    }
   ],
   "source": [
    "train = data[:training_data_len]\n",
    "valid = data[training_data_len:]\n",
    "valid['Predictions'] = predictions\n",
    "plt.figure(figsize=(16,8))\n",
    "plt.title('Model')\n",
    "plt.xlabel('Date',fontsize=18)\n",
    "plt.ylabel('Close Price (INR)',fontsize=18)\n",
    "plt.plot(train['Close'])\n",
    "plt.plot(valid[['Close','Predictions']])\n",
    "plt.legend(['Train', 'Val', 'Predictions'], loc ='lower right')\n",
    "plt.show()"
   ]
  },
  {
   "cell_type": "code",
   "execution_count": 88,
   "id": "ca7e280a",
   "metadata": {},
   "outputs": [
    {
     "data": {
      "text/html": [
       "<div>\n",
       "<style scoped>\n",
       "    .dataframe tbody tr th:only-of-type {\n",
       "        vertical-align: middle;\n",
       "    }\n",
       "\n",
       "    .dataframe tbody tr th {\n",
       "        vertical-align: top;\n",
       "    }\n",
       "\n",
       "    .dataframe thead th {\n",
       "        text-align: right;\n",
       "    }\n",
       "</style>\n",
       "<table border=\"1\" class=\"dataframe\">\n",
       "  <thead>\n",
       "    <tr style=\"text-align: right;\">\n",
       "      <th></th>\n",
       "      <th>Close</th>\n",
       "      <th>Predictions</th>\n",
       "    </tr>\n",
       "    <tr>\n",
       "      <th>Date</th>\n",
       "      <th></th>\n",
       "      <th></th>\n",
       "    </tr>\n",
       "  </thead>\n",
       "  <tbody>\n",
       "    <tr>\n",
       "      <th>2020-04-09</th>\n",
       "      <td>342.700012</td>\n",
       "      <td>317.807220</td>\n",
       "    </tr>\n",
       "    <tr>\n",
       "      <th>2020-04-13</th>\n",
       "      <td>330.649994</td>\n",
       "      <td>323.352875</td>\n",
       "    </tr>\n",
       "    <tr>\n",
       "      <th>2020-04-15</th>\n",
       "      <td>327.350006</td>\n",
       "      <td>327.988739</td>\n",
       "    </tr>\n",
       "    <tr>\n",
       "      <th>2020-04-16</th>\n",
       "      <td>342.000000</td>\n",
       "      <td>330.752747</td>\n",
       "    </tr>\n",
       "    <tr>\n",
       "      <th>2020-04-17</th>\n",
       "      <td>375.549988</td>\n",
       "      <td>334.725494</td>\n",
       "    </tr>\n",
       "    <tr>\n",
       "      <th>...</th>\n",
       "      <td>...</td>\n",
       "      <td>...</td>\n",
       "    </tr>\n",
       "    <tr>\n",
       "      <th>2022-02-28</th>\n",
       "      <td>742.700012</td>\n",
       "      <td>718.837463</td>\n",
       "    </tr>\n",
       "    <tr>\n",
       "      <th>2022-03-02</th>\n",
       "      <td>714.849976</td>\n",
       "      <td>718.544739</td>\n",
       "    </tr>\n",
       "    <tr>\n",
       "      <th>2022-03-03</th>\n",
       "      <td>698.299988</td>\n",
       "      <td>714.849121</td>\n",
       "    </tr>\n",
       "    <tr>\n",
       "      <th>2022-03-04</th>\n",
       "      <td>688.049988</td>\n",
       "      <td>707.157898</td>\n",
       "    </tr>\n",
       "    <tr>\n",
       "      <th>2022-03-07</th>\n",
       "      <td>653.750000</td>\n",
       "      <td>697.208984</td>\n",
       "    </tr>\n",
       "  </tbody>\n",
       "</table>\n",
       "<p>476 rows × 2 columns</p>\n",
       "</div>"
      ],
      "text/plain": [
       "                 Close  Predictions\n",
       "Date                               \n",
       "2020-04-09  342.700012   317.807220\n",
       "2020-04-13  330.649994   323.352875\n",
       "2020-04-15  327.350006   327.988739\n",
       "2020-04-16  342.000000   330.752747\n",
       "2020-04-17  375.549988   334.725494\n",
       "...                ...          ...\n",
       "2022-02-28  742.700012   718.837463\n",
       "2022-03-02  714.849976   718.544739\n",
       "2022-03-03  698.299988   714.849121\n",
       "2022-03-04  688.049988   707.157898\n",
       "2022-03-07  653.750000   697.208984\n",
       "\n",
       "[476 rows x 2 columns]"
      ]
     },
     "execution_count": 88,
     "metadata": {},
     "output_type": "execute_result"
    }
   ],
   "source": [
    "valid"
   ]
  },
  {
   "cell_type": "code",
   "execution_count": 89,
   "id": "5c78c683",
   "metadata": {},
   "outputs": [
    {
     "name": "stdout",
     "output_type": "stream",
     "text": [
      "[[681.0909]]\n"
     ]
    }
   ],
   "source": [
    "icici_quote = web.DataReader('ICICIBANK.NS', data_source='yahoo',start='2012-01-01', end='2022-03-08')\n",
    "new_df = icici_quote.filter(['Close'])\n",
    "last_60_days = new_df[-60:].values\n",
    "last_60_days_scaled = scaler.transform(last_60_days)\n",
    "X_test=[]\n",
    "X_test.append(last_60_days_scaled)\n",
    "X_test = np.array(X_test)\n",
    "X_test = np.reshape(X_test, (X_test.shape[0], X_test.shape[1], 1))\n",
    "pred_price = model.predict(X_test)\n",
    "pred_price = scaler.inverse_transform(pred_price)\n",
    "print(pred_price)"
   ]
  },
  {
   "cell_type": "code",
   "execution_count": 91,
   "id": "010435cc",
   "metadata": {},
   "outputs": [
    {
     "name": "stdout",
     "output_type": "stream",
     "text": [
      "Date\n",
      "2022-03-02    714.849976\n",
      "2022-03-03    698.299988\n",
      "2022-03-04    688.049988\n",
      "2022-03-07    653.750000\n",
      "Name: Close, dtype: float64\n"
     ]
    }
   ],
   "source": [
    "icici_quote2 = web.DataReader('ICICIBANK.NS', data_source='yahoo',start='2022-03-01', end='2022-03-08')\n",
    "print(icici_quote2['Close'])"
   ]
  },
  {
   "cell_type": "code",
   "execution_count": null,
   "id": "6cd36a8f",
   "metadata": {},
   "outputs": [],
   "source": []
  }
 ],
 "metadata": {
  "kernelspec": {
   "display_name": "Python 3 (ipykernel)",
   "language": "python",
   "name": "python3"
  },
  "language_info": {
   "codemirror_mode": {
    "name": "ipython",
    "version": 3
   },
   "file_extension": ".py",
   "mimetype": "text/x-python",
   "name": "python",
   "nbconvert_exporter": "python",
   "pygments_lexer": "ipython3",
   "version": "3.9.7"
  }
 },
 "nbformat": 4,
 "nbformat_minor": 5
}
