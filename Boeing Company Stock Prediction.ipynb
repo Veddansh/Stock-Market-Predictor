{
 "cells": [
  {
   "cell_type": "code",
   "execution_count": 1,
   "id": "e0661883",
   "metadata": {},
   "outputs": [],
   "source": [
    "import math\n",
    "import pandas_datareader as web\n",
    "import numpy as np\n",
    "import pandas as pd\n",
    "from sklearn.preprocessing import MinMaxScaler\n",
    "from keras.models import Sequential\n",
    "from keras.layers import Dense, LSTM\n",
    "import matplotlib.pyplot as plt"
   ]
  },
  {
   "cell_type": "code",
   "execution_count": 2,
   "id": "0f075b76",
   "metadata": {},
   "outputs": [
    {
     "data": {
      "text/html": [
       "<div>\n",
       "<style scoped>\n",
       "    .dataframe tbody tr th:only-of-type {\n",
       "        vertical-align: middle;\n",
       "    }\n",
       "\n",
       "    .dataframe tbody tr th {\n",
       "        vertical-align: top;\n",
       "    }\n",
       "\n",
       "    .dataframe thead th {\n",
       "        text-align: right;\n",
       "    }\n",
       "</style>\n",
       "<table border=\"1\" class=\"dataframe\">\n",
       "  <thead>\n",
       "    <tr style=\"text-align: right;\">\n",
       "      <th></th>\n",
       "      <th>High</th>\n",
       "      <th>Low</th>\n",
       "      <th>Open</th>\n",
       "      <th>Close</th>\n",
       "      <th>Volume</th>\n",
       "      <th>Adj Close</th>\n",
       "    </tr>\n",
       "    <tr>\n",
       "      <th>Date</th>\n",
       "      <th></th>\n",
       "      <th></th>\n",
       "      <th></th>\n",
       "      <th></th>\n",
       "      <th></th>\n",
       "      <th></th>\n",
       "    </tr>\n",
       "  </thead>\n",
       "  <tbody>\n",
       "    <tr>\n",
       "      <th>2012-01-03</th>\n",
       "      <td>75.000000</td>\n",
       "      <td>74.120003</td>\n",
       "      <td>74.699997</td>\n",
       "      <td>74.220001</td>\n",
       "      <td>6859300.0</td>\n",
       "      <td>60.731094</td>\n",
       "    </tr>\n",
       "    <tr>\n",
       "      <th>2012-01-04</th>\n",
       "      <td>74.599998</td>\n",
       "      <td>73.589996</td>\n",
       "      <td>74.099998</td>\n",
       "      <td>74.330002</td>\n",
       "      <td>4923000.0</td>\n",
       "      <td>60.821095</td>\n",
       "    </tr>\n",
       "    <tr>\n",
       "      <th>2012-01-05</th>\n",
       "      <td>73.900002</td>\n",
       "      <td>72.739998</td>\n",
       "      <td>73.769997</td>\n",
       "      <td>73.529999</td>\n",
       "      <td>6797900.0</td>\n",
       "      <td>60.166496</td>\n",
       "    </tr>\n",
       "    <tr>\n",
       "      <th>2012-01-06</th>\n",
       "      <td>74.269997</td>\n",
       "      <td>72.949997</td>\n",
       "      <td>73.730003</td>\n",
       "      <td>73.980003</td>\n",
       "      <td>4779800.0</td>\n",
       "      <td>60.534698</td>\n",
       "    </tr>\n",
       "    <tr>\n",
       "      <th>2012-01-09</th>\n",
       "      <td>74.870003</td>\n",
       "      <td>74.180000</td>\n",
       "      <td>74.809998</td>\n",
       "      <td>74.529999</td>\n",
       "      <td>4469600.0</td>\n",
       "      <td>60.984760</td>\n",
       "    </tr>\n",
       "    <tr>\n",
       "      <th>...</th>\n",
       "      <td>...</td>\n",
       "      <td>...</td>\n",
       "      <td>...</td>\n",
       "      <td>...</td>\n",
       "      <td>...</td>\n",
       "      <td>...</td>\n",
       "    </tr>\n",
       "    <tr>\n",
       "      <th>2022-03-01</th>\n",
       "      <td>203.500000</td>\n",
       "      <td>192.929993</td>\n",
       "      <td>203.110001</td>\n",
       "      <td>194.910004</td>\n",
       "      <td>11799500.0</td>\n",
       "      <td>194.910004</td>\n",
       "    </tr>\n",
       "    <tr>\n",
       "      <th>2022-03-02</th>\n",
       "      <td>199.850006</td>\n",
       "      <td>194.639999</td>\n",
       "      <td>196.270004</td>\n",
       "      <td>197.809998</td>\n",
       "      <td>7463400.0</td>\n",
       "      <td>197.809998</td>\n",
       "    </tr>\n",
       "    <tr>\n",
       "      <th>2022-03-03</th>\n",
       "      <td>198.500000</td>\n",
       "      <td>188.710007</td>\n",
       "      <td>197.940002</td>\n",
       "      <td>188.850006</td>\n",
       "      <td>12424500.0</td>\n",
       "      <td>188.850006</td>\n",
       "    </tr>\n",
       "    <tr>\n",
       "      <th>2022-03-04</th>\n",
       "      <td>188.320007</td>\n",
       "      <td>178.970001</td>\n",
       "      <td>187.369995</td>\n",
       "      <td>180.839996</td>\n",
       "      <td>13084000.0</td>\n",
       "      <td>180.839996</td>\n",
       "    </tr>\n",
       "    <tr>\n",
       "      <th>2022-03-07</th>\n",
       "      <td>182.720001</td>\n",
       "      <td>169.059998</td>\n",
       "      <td>181.029999</td>\n",
       "      <td>169.169998</td>\n",
       "      <td>12413882.0</td>\n",
       "      <td>169.169998</td>\n",
       "    </tr>\n",
       "  </tbody>\n",
       "</table>\n",
       "<p>2561 rows × 6 columns</p>\n",
       "</div>"
      ],
      "text/plain": [
       "                  High         Low        Open       Close      Volume  \\\n",
       "Date                                                                     \n",
       "2012-01-03   75.000000   74.120003   74.699997   74.220001   6859300.0   \n",
       "2012-01-04   74.599998   73.589996   74.099998   74.330002   4923000.0   \n",
       "2012-01-05   73.900002   72.739998   73.769997   73.529999   6797900.0   \n",
       "2012-01-06   74.269997   72.949997   73.730003   73.980003   4779800.0   \n",
       "2012-01-09   74.870003   74.180000   74.809998   74.529999   4469600.0   \n",
       "...                ...         ...         ...         ...         ...   \n",
       "2022-03-01  203.500000  192.929993  203.110001  194.910004  11799500.0   \n",
       "2022-03-02  199.850006  194.639999  196.270004  197.809998   7463400.0   \n",
       "2022-03-03  198.500000  188.710007  197.940002  188.850006  12424500.0   \n",
       "2022-03-04  188.320007  178.970001  187.369995  180.839996  13084000.0   \n",
       "2022-03-07  182.720001  169.059998  181.029999  169.169998  12413882.0   \n",
       "\n",
       "             Adj Close  \n",
       "Date                    \n",
       "2012-01-03   60.731094  \n",
       "2012-01-04   60.821095  \n",
       "2012-01-05   60.166496  \n",
       "2012-01-06   60.534698  \n",
       "2012-01-09   60.984760  \n",
       "...                ...  \n",
       "2022-03-01  194.910004  \n",
       "2022-03-02  197.809998  \n",
       "2022-03-03  188.850006  \n",
       "2022-03-04  180.839996  \n",
       "2022-03-07  169.169998  \n",
       "\n",
       "[2561 rows x 6 columns]"
      ]
     },
     "execution_count": 2,
     "metadata": {},
     "output_type": "execute_result"
    }
   ],
   "source": [
    "df = web.DataReader('BA', data_source='yahoo',start='2012-01-01', end='2022-03-07')\n",
    "df"
   ]
  },
  {
   "cell_type": "code",
   "execution_count": 3,
   "id": "31f9d11e",
   "metadata": {},
   "outputs": [
    {
     "data": {
      "text/plain": [
       "2075"
      ]
     },
     "execution_count": 3,
     "metadata": {},
     "output_type": "execute_result"
    }
   ],
   "source": [
    "data = df.filter(['Close'])\n",
    "dataset=data.values\n",
    "training_data_len = math.ceil(len(dataset)*.81)\n",
    "training_data_len"
   ]
  },
  {
   "cell_type": "code",
   "execution_count": 4,
   "id": "b5555b25",
   "metadata": {},
   "outputs": [
    {
     "data": {
      "image/png": "[encoded data removed]",
      "text/plain": [
       "<Figure size 1152x576 with 1 Axes>"
      ]
     },
     "metadata": {
      "needs_background": "light"
     },
     "output_type": "display_data"
    }
   ],
   "source": [
    "plt.figure(figsize=(16,8))\n",
    "plt.title('Close Price History')\n",
    "plt.plot(df['Close'])\n",
    "plt.xlabel('Date',fontsize=18)\n",
    "plt.ylabel('Close Price (USD)',fontsize=18)\n",
    "plt.show()"
   ]
  },
  {
   "cell_type": "code",
   "execution_count": 5,
   "id": "6eb1b6f6",
   "metadata": {},
   "outputs": [
    {
     "data": {
      "text/plain": [
       "array([[0.0186941 ],\n",
       "       [0.01898871],\n",
       "       [0.01684611],\n",
       "       ...,\n",
       "       [0.32570038],\n",
       "       [0.30424768],\n",
       "       [0.27299266]])"
      ]
     },
     "execution_count": 5,
     "metadata": {},
     "output_type": "execute_result"
    }
   ],
   "source": [
    "scaler = MinMaxScaler(feature_range=(0,1))\n",
    "scaled_data = scaler.fit_transform(dataset)\n",
    "scaled_data"
   ]
  },
  {
   "cell_type": "code",
   "execution_count": 6,
   "id": "1a249f93",
   "metadata": {},
   "outputs": [
    {
     "name": "stdout",
     "output_type": "stream",
     "text": [
      "[array([0.0186941 , 0.01898871, 0.01684611, 0.01805133, 0.01952435,\n",
      "       0.02078312, 0.02008678, 0.02214903, 0.01971182, 0.02142589,\n",
      "       0.02094381, 0.02228293, 0.0221758 , 0.02214903, 0.02174729,\n",
      "       0.02297928, 0.02161337, 0.01957792, 0.01853341, 0.01858697,\n",
      "       0.02177408, 0.02137234, 0.02437195, 0.02201511, 0.02131876,\n",
      "       0.02201511, 0.02319354, 0.0206492 , 0.02038138, 0.02228293,\n",
      "       0.02134555, 0.02150624, 0.0217205 , 0.02271146, 0.02362205,\n",
      "       0.02305962, 0.02362205, 0.02134555, 0.02121165, 0.0206492 ,\n",
      "       0.02099739, 0.0205153 , 0.01845305, 0.01424822, 0.01681932,\n",
      "       0.01856018, 0.01620334, 0.01703359, 0.01893513, 0.02139913,\n",
      "       0.02193476, 0.02131876, 0.02185442, 0.02115807, 0.02080991,\n",
      "       0.01789062, 0.01802454, 0.02126521, 0.02027425, 0.01898871])]\n",
      "[0.018319149439177812]\n",
      "\n"
     ]
    }
   ],
   "source": [
    "train_data = scaled_data[0:training_data_len , :]\n",
    "x_train = []\n",
    "y_train = []\n",
    "\n",
    "for i in range(60, len(train_data)):\n",
    "    x_train.append(train_data[i-60:i, 0])\n",
    "    y_train.append(train_data[i, 0])\n",
    "    if i<=60:\n",
    "        print(x_train)\n",
    "        print(y_train)\n",
    "        print()"
   ]
  },
  {
   "cell_type": "code",
   "execution_count": 7,
   "id": "38a81db2",
   "metadata": {},
   "outputs": [],
   "source": [
    "x_train,y_train = np.array(x_train), np.array(y_train)"
   ]
  },
  {
   "cell_type": "code",
   "execution_count": 8,
   "id": "c068d354",
   "metadata": {},
   "outputs": [
    {
     "data": {
      "text/plain": [
       "(2015, 60, 1)"
      ]
     },
     "execution_count": 8,
     "metadata": {},
     "output_type": "execute_result"
    }
   ],
   "source": [
    "x_train = np.reshape(x_train,(x_train.shape[0],x_train.shape[1], 1))\n",
    "x_train.shape"
   ]
  },
  {
   "cell_type": "code",
   "execution_count": 9,
   "id": "081b2fd0",
   "metadata": {},
   "outputs": [],
   "source": [
    "model = Sequential()\n",
    "model.add(LSTM(50, return_sequences=True, input_shape = (x_train.shape[1],1)))\n",
    "model.add(LSTM(50, return_sequences=False))\n",
    "model.add(Dense(25))\n",
    "model.add(Dense(1))"
   ]
  },
  {
   "cell_type": "code",
   "execution_count": 10,
   "id": "93338860",
   "metadata": {},
   "outputs": [],
   "source": [
    "model.compile(optimizer='adam',loss='mean_squared_error')"
   ]
  },
  {
   "cell_type": "code",
   "execution_count": 11,
   "id": "fde09c3a",
   "metadata": {},
   "outputs": [
    {
     "name": "stdout",
     "output_type": "stream",
     "text": [
      "2015/2015 [==============================] - 38s 18ms/step - loss: 0.0020\n"
     ]
    },
    {
     "data": {
      "text/plain": [
       "<keras.callbacks.History at 0x248ee508040>"
      ]
     },
     "execution_count": 11,
     "metadata": {},
     "output_type": "execute_result"
    }
   ],
   "source": [
    "model.fit(x_train, y_train, batch_size=1, epochs=1)"
   ]
  },
  {
   "cell_type": "code",
   "execution_count": 12,
   "id": "2693ab95",
   "metadata": {},
   "outputs": [],
   "source": [
    "test_data = scaled_data[training_data_len-60: , :]\n",
    "x_test=[]\n",
    "y_test=dataset[training_data_len:, :]\n",
    "for i in range(60, len(test_data)):\n",
    "    x_test.append(test_data[i-60:i, 0])"
   ]
  },
  {
   "cell_type": "code",
   "execution_count": 13,
   "id": "2ae94a2b",
   "metadata": {},
   "outputs": [],
   "source": [
    "x_test = np.array(x_test)"
   ]
  },
  {
   "cell_type": "code",
   "execution_count": 14,
   "id": "10830aec",
   "metadata": {},
   "outputs": [],
   "source": [
    "x_test = np.reshape(x_test, (x_test.shape[0], x_test.shape[1], 1))"
   ]
  },
  {
   "cell_type": "code",
   "execution_count": 15,
   "id": "ab9c162b",
   "metadata": {},
   "outputs": [],
   "source": [
    "predictions = model.predict(x_test)\n",
    "predictions = scaler.inverse_transform(predictions)"
   ]
  },
  {
   "cell_type": "code",
   "execution_count": 16,
   "id": "7a93ab91",
   "metadata": {},
   "outputs": [
    {
     "data": {
      "text/plain": [
       "3.9920880980942965"
      ]
     },
     "execution_count": 16,
     "metadata": {},
     "output_type": "execute_result"
    }
   ],
   "source": [
    "rmse = np.sqrt(np.mean(predictions - y_test)**2)\n",
    "rmse"
   ]
  },
  {
   "cell_type": "code",
   "execution_count": 17,
   "id": "bf1004a3",
   "metadata": {},
   "outputs": [
    {
     "name": "stderr",
     "output_type": "stream",
     "text": [
      "C:\\Users\\kapoo\\AppData\\Local\\Temp/ipykernel_14616/2133332622.py:3: SettingWithCopyWarning: \n",
      "A value is trying to be set on a copy of a slice from a DataFrame.\n",
      "Try using .loc[row_indexer,col_indexer] = value instead\n",
      "\n",
      "See the caveats in the documentation: https://pandas.pydata.org/pandas-docs/stable/user_guide/indexing.html#returning-a-view-versus-a-copy\n",
      "  valid['Predictions'] = predictions\n"
     ]
    },
    {
     "data": {
      "image/png": "[encoded data removed]",
      "text/plain": [
       "<Figure size 1152x576 with 1 Axes>"
      ]
     },
     "metadata": {
      "needs_background": "light"
     },
     "output_type": "display_data"
    }
   ],
   "source": [
    "train = data[:training_data_len]\n",
    "valid = data[training_data_len:]\n",
    "valid['Predictions'] = predictions\n",
    "plt.figure(figsize=(16,8))\n",
    "plt.title('Model')\n",
    "plt.xlabel('Date',fontsize=18)\n",
    "plt.ylabel('Close Price (USD)',fontsize=18)\n",
    "plt.plot(train['Close'])\n",
    "plt.plot(valid[['Close','Predictions']])\n",
    "plt.legend(['Train', 'Val', 'Predictions'], loc ='lower right')\n",
    "plt.show()"
   ]
  },
  {
   "cell_type": "code",
   "execution_count": 18,
   "id": "2acd6589",
   "metadata": {},
   "outputs": [
    {
     "data": {
      "text/html": [
       "<div>\n",
       "<style scoped>\n",
       "    .dataframe tbody tr th:only-of-type {\n",
       "        vertical-align: middle;\n",
       "    }\n",
       "\n",
       "    .dataframe tbody tr th {\n",
       "        vertical-align: top;\n",
       "    }\n",
       "\n",
       "    .dataframe thead th {\n",
       "        text-align: right;\n",
       "    }\n",
       "</style>\n",
       "<table border=\"1\" class=\"dataframe\">\n",
       "  <thead>\n",
       "    <tr style=\"text-align: right;\">\n",
       "      <th></th>\n",
       "      <th>Close</th>\n",
       "      <th>Predictions</th>\n",
       "    </tr>\n",
       "    <tr>\n",
       "      <th>Date</th>\n",
       "      <th></th>\n",
       "      <th></th>\n",
       "    </tr>\n",
       "  </thead>\n",
       "  <tbody>\n",
       "    <tr>\n",
       "      <th>2020-04-02</th>\n",
       "      <td>123.269997</td>\n",
       "      <td>162.532455</td>\n",
       "    </tr>\n",
       "    <tr>\n",
       "      <th>2020-04-03</th>\n",
       "      <td>124.519997</td>\n",
       "      <td>155.873154</td>\n",
       "    </tr>\n",
       "    <tr>\n",
       "      <th>2020-04-06</th>\n",
       "      <td>148.770004</td>\n",
       "      <td>149.156601</td>\n",
       "    </tr>\n",
       "    <tr>\n",
       "      <th>2020-04-07</th>\n",
       "      <td>141.580002</td>\n",
       "      <td>147.240356</td>\n",
       "    </tr>\n",
       "    <tr>\n",
       "      <th>2020-04-08</th>\n",
       "      <td>146.869995</td>\n",
       "      <td>146.688416</td>\n",
       "    </tr>\n",
       "    <tr>\n",
       "      <th>...</th>\n",
       "      <td>...</td>\n",
       "      <td>...</td>\n",
       "    </tr>\n",
       "    <tr>\n",
       "      <th>2022-03-01</th>\n",
       "      <td>194.910004</td>\n",
       "      <td>206.250366</td>\n",
       "    </tr>\n",
       "    <tr>\n",
       "      <th>2022-03-02</th>\n",
       "      <td>197.809998</td>\n",
       "      <td>205.267868</td>\n",
       "    </tr>\n",
       "    <tr>\n",
       "      <th>2022-03-03</th>\n",
       "      <td>188.850006</td>\n",
       "      <td>204.525726</td>\n",
       "    </tr>\n",
       "    <tr>\n",
       "      <th>2022-03-04</th>\n",
       "      <td>180.839996</td>\n",
       "      <td>202.535065</td>\n",
       "    </tr>\n",
       "    <tr>\n",
       "      <th>2022-03-07</th>\n",
       "      <td>169.169998</td>\n",
       "      <td>199.056915</td>\n",
       "    </tr>\n",
       "  </tbody>\n",
       "</table>\n",
       "<p>486 rows × 2 columns</p>\n",
       "</div>"
      ],
      "text/plain": [
       "                 Close  Predictions\n",
       "Date                               \n",
       "2020-04-02  123.269997   162.532455\n",
       "2020-04-03  124.519997   155.873154\n",
       "2020-04-06  148.770004   149.156601\n",
       "2020-04-07  141.580002   147.240356\n",
       "2020-04-08  146.869995   146.688416\n",
       "...                ...          ...\n",
       "2022-03-01  194.910004   206.250366\n",
       "2022-03-02  197.809998   205.267868\n",
       "2022-03-03  188.850006   204.525726\n",
       "2022-03-04  180.839996   202.535065\n",
       "2022-03-07  169.169998   199.056915\n",
       "\n",
       "[486 rows x 2 columns]"
      ]
     },
     "execution_count": 18,
     "metadata": {},
     "output_type": "execute_result"
    }
   ],
   "source": [
    "valid"
   ]
  },
  {
   "cell_type": "code",
   "execution_count": 19,
   "id": "dbf49fc7",
   "metadata": {},
   "outputs": [
    {
     "name": "stdout",
     "output_type": "stream",
     "text": [
      "[[193.66718]]\n"
     ]
    }
   ],
   "source": [
    "ba_quote = web.DataReader('BA', data_source='yahoo',start='2012-01-01', end='2022-03-07')\n",
    "new_df = ba_quote.filter(['Close'])\n",
    "last_60_days = new_df[-60:].values\n",
    "last_60_days_scaled = scaler.transform(last_60_days)\n",
    "X_test=[]\n",
    "X_test.append(last_60_days_scaled)\n",
    "X_test = np.array(X_test)\n",
    "X_test = np.reshape(X_test, (X_test.shape[0], X_test.shape[1], 1))\n",
    "pred_price = model.predict(X_test)\n",
    "pred_price = scaler.inverse_transform(pred_price)\n",
    "print(pred_price)"
   ]
  },
  {
   "cell_type": "code",
   "execution_count": 20,
   "id": "dcefb558",
   "metadata": {},
   "outputs": [
    {
     "name": "stdout",
     "output_type": "stream",
     "text": [
      "Date\n",
      "2022-02-28    205.339996\n",
      "2022-03-01    194.910004\n",
      "2022-03-02    197.809998\n",
      "2022-03-03    188.850006\n",
      "2022-03-04    180.839996\n",
      "2022-03-07    169.169998\n",
      "Name: Close, dtype: float64\n"
     ]
    }
   ],
   "source": [
    "ba_quote2 = web.DataReader('BA', data_source='yahoo',start='2022-03-01', end='2022-03-07')\n",
    "print(ba_quote2['Close'])"
   ]
  },
  {
   "cell_type": "code",
   "execution_count": null,
   "id": "6b857621",
   "metadata": {},
   "outputs": [],
   "source": []
  }
 ],
 "metadata": {
  "kernelspec": {
   "display_name": "Python 3 (ipykernel)",
   "language": "python",
   "name": "python3"
  },
  "language_info": {
   "codemirror_mode": {
    "name": "ipython",
    "version": 3
   },
   "file_extension": ".py",
   "mimetype": "text/x-python",
   "name": "python",
   "nbconvert_exporter": "python",
   "pygments_lexer": "ipython3",
   "version": "3.9.7"
  }
 },
 "nbformat": 4,
 "nbformat_minor": 5
}
