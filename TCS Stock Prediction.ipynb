{
 "cells": [
  {
   "cell_type": "code",
   "execution_count": 1,
   "id": "4f7d19d5",
   "metadata": {},
   "outputs": [],
   "source": [
    "import math\n",
    "import pandas_datareader as web\n",
    "import numpy as np\n",
    "import pandas as pd\n",
    "from sklearn.preprocessing import MinMaxScaler\n",
    "from keras.models import Sequential\n",
    "from keras.layers import Dense, LSTM\n",
    "import matplotlib.pyplot as plt"
   ]
  },
  {
   "cell_type": "code",
   "execution_count": 2,
   "id": "a8851a67",
   "metadata": {},
   "outputs": [
    {
     "data": {
      "text/html": [
       "<div>\n",
       "<style scoped>\n",
       "    .dataframe tbody tr th:only-of-type {\n",
       "        vertical-align: middle;\n",
       "    }\n",
       "\n",
       "    .dataframe tbody tr th {\n",
       "        vertical-align: top;\n",
       "    }\n",
       "\n",
       "    .dataframe thead th {\n",
       "        text-align: right;\n",
       "    }\n",
       "</style>\n",
       "<table border=\"1\" class=\"dataframe\">\n",
       "  <thead>\n",
       "    <tr style=\"text-align: right;\">\n",
       "      <th></th>\n",
       "      <th>High</th>\n",
       "      <th>Low</th>\n",
       "      <th>Open</th>\n",
       "      <th>Close</th>\n",
       "      <th>Volume</th>\n",
       "      <th>Adj Close</th>\n",
       "    </tr>\n",
       "    <tr>\n",
       "      <th>Date</th>\n",
       "      <th></th>\n",
       "      <th></th>\n",
       "      <th></th>\n",
       "      <th></th>\n",
       "      <th></th>\n",
       "      <th></th>\n",
       "    </tr>\n",
       "  </thead>\n",
       "  <tbody>\n",
       "    <tr>\n",
       "      <th>2012-01-02</th>\n",
       "      <td>592.974976</td>\n",
       "      <td>576.500000</td>\n",
       "      <td>580.500000</td>\n",
       "      <td>589.299988</td>\n",
       "      <td>2248542.0</td>\n",
       "      <td>485.253113</td>\n",
       "    </tr>\n",
       "    <tr>\n",
       "      <th>2012-01-03</th>\n",
       "      <td>604.950012</td>\n",
       "      <td>590.000000</td>\n",
       "      <td>591.625000</td>\n",
       "      <td>598.799988</td>\n",
       "      <td>2708884.0</td>\n",
       "      <td>493.075867</td>\n",
       "    </tr>\n",
       "    <tr>\n",
       "      <th>2012-01-04</th>\n",
       "      <td>602.500000</td>\n",
       "      <td>584.650024</td>\n",
       "      <td>602.450012</td>\n",
       "      <td>586.500000</td>\n",
       "      <td>2386770.0</td>\n",
       "      <td>482.947540</td>\n",
       "    </tr>\n",
       "    <tr>\n",
       "      <th>2012-01-05</th>\n",
       "      <td>592.500000</td>\n",
       "      <td>583.674988</td>\n",
       "      <td>586.400024</td>\n",
       "      <td>586.000000</td>\n",
       "      <td>2547312.0</td>\n",
       "      <td>482.535767</td>\n",
       "    </tr>\n",
       "    <tr>\n",
       "      <th>2012-01-06</th>\n",
       "      <td>594.174988</td>\n",
       "      <td>578.400024</td>\n",
       "      <td>583.000000</td>\n",
       "      <td>584.700012</td>\n",
       "      <td>2119728.0</td>\n",
       "      <td>481.465240</td>\n",
       "    </tr>\n",
       "    <tr>\n",
       "      <th>...</th>\n",
       "      <td>...</td>\n",
       "      <td>...</td>\n",
       "      <td>...</td>\n",
       "      <td>...</td>\n",
       "      <td>...</td>\n",
       "      <td>...</td>\n",
       "    </tr>\n",
       "    <tr>\n",
       "      <th>2022-02-28</th>\n",
       "      <td>3563.750000</td>\n",
       "      <td>3455.899902</td>\n",
       "      <td>3490.000000</td>\n",
       "      <td>3554.199951</td>\n",
       "      <td>3288942.0</td>\n",
       "      <td>3554.199951</td>\n",
       "    </tr>\n",
       "    <tr>\n",
       "      <th>2022-03-02</th>\n",
       "      <td>3571.949951</td>\n",
       "      <td>3506.000000</td>\n",
       "      <td>3552.500000</td>\n",
       "      <td>3546.149902</td>\n",
       "      <td>2761341.0</td>\n",
       "      <td>3546.149902</td>\n",
       "    </tr>\n",
       "    <tr>\n",
       "      <th>2022-03-03</th>\n",
       "      <td>3578.600098</td>\n",
       "      <td>3530.100098</td>\n",
       "      <td>3562.850098</td>\n",
       "      <td>3544.399902</td>\n",
       "      <td>1928039.0</td>\n",
       "      <td>3544.399902</td>\n",
       "    </tr>\n",
       "    <tr>\n",
       "      <th>2022-03-04</th>\n",
       "      <td>3561.199951</td>\n",
       "      <td>3487.050049</td>\n",
       "      <td>3501.500000</td>\n",
       "      <td>3524.350098</td>\n",
       "      <td>2370257.0</td>\n",
       "      <td>3524.350098</td>\n",
       "    </tr>\n",
       "    <tr>\n",
       "      <th>2022-03-07</th>\n",
       "      <td>3548.000000</td>\n",
       "      <td>3431.550049</td>\n",
       "      <td>3450.000000</td>\n",
       "      <td>3484.899902</td>\n",
       "      <td>3052252.0</td>\n",
       "      <td>3484.899902</td>\n",
       "    </tr>\n",
       "  </tbody>\n",
       "</table>\n",
       "<p>2509 rows × 6 columns</p>\n",
       "</div>"
      ],
      "text/plain": [
       "                   High          Low         Open        Close     Volume  \\\n",
       "Date                                                                        \n",
       "2012-01-02   592.974976   576.500000   580.500000   589.299988  2248542.0   \n",
       "2012-01-03   604.950012   590.000000   591.625000   598.799988  2708884.0   \n",
       "2012-01-04   602.500000   584.650024   602.450012   586.500000  2386770.0   \n",
       "2012-01-05   592.500000   583.674988   586.400024   586.000000  2547312.0   \n",
       "2012-01-06   594.174988   578.400024   583.000000   584.700012  2119728.0   \n",
       "...                 ...          ...          ...          ...        ...   \n",
       "2022-02-28  3563.750000  3455.899902  3490.000000  3554.199951  3288942.0   \n",
       "2022-03-02  3571.949951  3506.000000  3552.500000  3546.149902  2761341.0   \n",
       "2022-03-03  3578.600098  3530.100098  3562.850098  3544.399902  1928039.0   \n",
       "2022-03-04  3561.199951  3487.050049  3501.500000  3524.350098  2370257.0   \n",
       "2022-03-07  3548.000000  3431.550049  3450.000000  3484.899902  3052252.0   \n",
       "\n",
       "              Adj Close  \n",
       "Date                     \n",
       "2012-01-02   485.253113  \n",
       "2012-01-03   493.075867  \n",
       "2012-01-04   482.947540  \n",
       "2012-01-05   482.535767  \n",
       "2012-01-06   481.465240  \n",
       "...                 ...  \n",
       "2022-02-28  3554.199951  \n",
       "2022-03-02  3546.149902  \n",
       "2022-03-03  3544.399902  \n",
       "2022-03-04  3524.350098  \n",
       "2022-03-07  3484.899902  \n",
       "\n",
       "[2509 rows x 6 columns]"
      ]
     },
     "execution_count": 2,
     "metadata": {},
     "output_type": "execute_result"
    }
   ],
   "source": [
    "df = web.DataReader('TCS.NS', data_source='yahoo',start='2012-01-01', end='2022-03-07')\n",
    "df"
   ]
  },
  {
   "cell_type": "code",
   "execution_count": 74,
   "id": "54846714",
   "metadata": {},
   "outputs": [
    {
     "data": {
      "text/plain": [
       "1983"
      ]
     },
     "execution_count": 74,
     "metadata": {},
     "output_type": "execute_result"
    }
   ],
   "source": [
    "data = df.filter(['Close'])\n",
    "dataset=data.values\n",
    "training_data_len = math.ceil(len(dataset)*.79)\n",
    "training_data_len"
   ]
  },
  {
   "cell_type": "code",
   "execution_count": 75,
   "id": "741bbb1e",
   "metadata": {},
   "outputs": [
    {
     "data": {
      "image/png": "[encoded data removed]",
      "text/plain": [
       "<Figure size 1152x576 with 1 Axes>"
      ]
     },
     "metadata": {
      "needs_background": "light"
     },
     "output_type": "display_data"
    }
   ],
   "source": [
    "plt.figure(figsize=(16,8))\n",
    "plt.title('Close Price History')\n",
    "plt.plot(df['Close'])\n",
    "plt.xlabel('Date',fontsize=18)\n",
    "plt.ylabel('Close Price (INR)',fontsize=18)\n",
    "plt.show()"
   ]
  },
  {
   "cell_type": "code",
   "execution_count": 76,
   "id": "45189c6e",
   "metadata": {},
   "outputs": [
    {
     "data": {
      "text/plain": [
       "array([[0.0163965 ],\n",
       "       [0.01912088],\n",
       "       [0.01559352],\n",
       "       ...,\n",
       "       [0.86385242],\n",
       "       [0.85810259],\n",
       "       [0.84678916]])"
      ]
     },
     "execution_count": 76,
     "metadata": {},
     "output_type": "execute_result"
    }
   ],
   "source": [
    "scaler = MinMaxScaler(feature_range=(0,1))\n",
    "scaled_data = scaler.fit_transform(dataset)\n",
    "scaled_data"
   ]
  },
  {
   "cell_type": "code",
   "execution_count": 77,
   "id": "f647abde",
   "metadata": {},
   "outputs": [
    {
     "name": "stdout",
     "output_type": "stream",
     "text": [
      "[array([0.0163965 , 0.01912088, 0.01559352, 0.01545013, 0.01507733,\n",
      "       0.01535693, 0.01450377, 0.01043153, 0.00362056, 0.00308286,\n",
      "       0.006474  , 0.00569252, 0.00170633, 0.0016203 , 0.00218668,\n",
      "       0.00192857, 0.00350585, 0.00483937, 0.0063808 , 0.00681096,\n",
      "       0.00977194, 0.0092414 , 0.0120088 , 0.01538562, 0.01858317,\n",
      "       0.01917824, 0.02228261, 0.02356593, 0.0242542 , 0.0231501 ,\n",
      "       0.02233279, 0.02542998, 0.02309992, 0.02358744, 0.02477758,\n",
      "       0.02697141, 0.02803967, 0.02950223, 0.02692841, 0.02327199,\n",
      "       0.02261239, 0.02227543, 0.02193847, 0.02051176, 0.01975179,\n",
      "       0.01843978, 0.020691  , 0.01789492, 0.01903485, 0.01294801,\n",
      "       0.01426   , 0.01509884, 0.0082807 , 0.01012324, 0.01598784,\n",
      "       0.01484073, 0.017264  , 0.01395889, 0.01584445, 0.01446075])]\n",
      "[0.011033754178261579]\n",
      "\n"
     ]
    }
   ],
   "source": [
    "train_data = scaled_data[0:training_data_len , :]\n",
    "x_train = []\n",
    "y_train = []\n",
    "\n",
    "for i in range(60, len(train_data)):\n",
    "    x_train.append(train_data[i-60:i, 0])\n",
    "    y_train.append(train_data[i, 0])\n",
    "    if i<=60:\n",
    "        print(x_train)\n",
    "        print(y_train)\n",
    "        print()"
   ]
  },
  {
   "cell_type": "code",
   "execution_count": 78,
   "id": "b499d9c5",
   "metadata": {},
   "outputs": [],
   "source": [
    "x_train,y_train = np.array(x_train), np.array(y_train)"
   ]
  },
  {
   "cell_type": "code",
   "execution_count": 79,
   "id": "7a62f77c",
   "metadata": {},
   "outputs": [
    {
     "data": {
      "text/plain": [
       "(1923, 60, 1)"
      ]
     },
     "execution_count": 79,
     "metadata": {},
     "output_type": "execute_result"
    }
   ],
   "source": [
    "x_train = np.reshape(x_train,(x_train.shape[0],x_train.shape[1], 1))\n",
    "x_train.shape"
   ]
  },
  {
   "cell_type": "code",
   "execution_count": 80,
   "id": "5aa3dd50",
   "metadata": {},
   "outputs": [],
   "source": [
    "model = Sequential()\n",
    "model.add(LSTM(50, return_sequences=True, input_shape = (x_train.shape[1],1)))\n",
    "model.add(LSTM(50, return_sequences=False))\n",
    "model.add(Dense(25))\n",
    "model.add(Dense(1))"
   ]
  },
  {
   "cell_type": "code",
   "execution_count": 81,
   "id": "6ba1a562",
   "metadata": {},
   "outputs": [],
   "source": [
    "model.compile(optimizer='adam',loss='mean_squared_error')"
   ]
  },
  {
   "cell_type": "code",
   "execution_count": 82,
   "id": "a1f32735",
   "metadata": {},
   "outputs": [
    {
     "name": "stdout",
     "output_type": "stream",
     "text": [
      "1923/1923 [==============================] - 30s 15ms/step - loss: 5.7690e-04\n"
     ]
    },
    {
     "data": {
      "text/plain": [
       "<keras.callbacks.History at 0x1295e238e50>"
      ]
     },
     "execution_count": 82,
     "metadata": {},
     "output_type": "execute_result"
    }
   ],
   "source": [
    "model.fit(x_train, y_train, batch_size=1, epochs=1)"
   ]
  },
  {
   "cell_type": "code",
   "execution_count": 83,
   "id": "6ed52d79",
   "metadata": {},
   "outputs": [],
   "source": [
    "test_data = scaled_data[training_data_len-60: , :]\n",
    "x_test=[]\n",
    "y_test=dataset[training_data_len:, :]\n",
    "for i in range(60, len(test_data)):\n",
    "    x_test.append(test_data[i-60:i, 0])"
   ]
  },
  {
   "cell_type": "code",
   "execution_count": 84,
   "id": "a820b56c",
   "metadata": {},
   "outputs": [],
   "source": [
    "x_test = np.array(x_test)"
   ]
  },
  {
   "cell_type": "code",
   "execution_count": 85,
   "id": "f6f04398",
   "metadata": {},
   "outputs": [],
   "source": [
    "x_test = np.reshape(x_test, (x_test.shape[0], x_test.shape[1], 1))"
   ]
  },
  {
   "cell_type": "code",
   "execution_count": 86,
   "id": "787f3f4a",
   "metadata": {},
   "outputs": [],
   "source": [
    "predictions = model.predict(x_test)\n",
    "predictions = scaler.inverse_transform(predictions)"
   ]
  },
  {
   "cell_type": "code",
   "execution_count": 87,
   "id": "e34c6f59",
   "metadata": {},
   "outputs": [
    {
     "data": {
      "text/plain": [
       "14.293664504366683"
      ]
     },
     "execution_count": 87,
     "metadata": {},
     "output_type": "execute_result"
    }
   ],
   "source": [
    "rmse = np.sqrt(np.mean(predictions - y_test)**2)\n",
    "rmse"
   ]
  },
  {
   "cell_type": "code",
   "execution_count": 88,
   "id": "c3ce61ee",
   "metadata": {},
   "outputs": [
    {
     "name": "stderr",
     "output_type": "stream",
     "text": [
      "C:\\Users\\kapoo\\AppData\\Local\\Temp/ipykernel_18156/3428246292.py:3: SettingWithCopyWarning: \n",
      "A value is trying to be set on a copy of a slice from a DataFrame.\n",
      "Try using .loc[row_indexer,col_indexer] = value instead\n",
      "\n",
      "See the caveats in the documentation: https://pandas.pydata.org/pandas-docs/stable/user_guide/indexing.html#returning-a-view-versus-a-copy\n",
      "  valid['Predictions'] = predictions\n"
     ]
    },
    {
     "data": {
      "image/png": "[encoded data removed]",
      "text/plain": [
       "<Figure size 1152x576 with 1 Axes>"
      ]
     },
     "metadata": {
      "needs_background": "light"
     },
     "output_type": "display_data"
    }
   ],
   "source": [
    "train = data[:training_data_len]\n",
    "valid = data[training_data_len:]\n",
    "valid['Predictions'] = predictions\n",
    "plt.figure(figsize=(16,8))\n",
    "plt.title('Model')\n",
    "plt.xlabel('Date',fontsize=18)\n",
    "plt.ylabel('Close Price (INR)',fontsize=18)\n",
    "plt.plot(train['Close'])\n",
    "plt.plot(valid[['Close','Predictions']])\n",
    "plt.legend(['Train', 'Val', 'Predictions'], loc ='lower right')\n",
    "plt.show()"
   ]
  },
  {
   "cell_type": "code",
   "execution_count": 89,
   "id": "66ee35de",
   "metadata": {},
   "outputs": [
    {
     "data": {
      "text/html": [
       "<div>\n",
       "<style scoped>\n",
       "    .dataframe tbody tr th:only-of-type {\n",
       "        vertical-align: middle;\n",
       "    }\n",
       "\n",
       "    .dataframe tbody tr th {\n",
       "        vertical-align: top;\n",
       "    }\n",
       "\n",
       "    .dataframe thead th {\n",
       "        text-align: right;\n",
       "    }\n",
       "</style>\n",
       "<table border=\"1\" class=\"dataframe\">\n",
       "  <thead>\n",
       "    <tr style=\"text-align: right;\">\n",
       "      <th></th>\n",
       "      <th>Close</th>\n",
       "      <th>Predictions</th>\n",
       "    </tr>\n",
       "    <tr>\n",
       "      <th>Date</th>\n",
       "      <th></th>\n",
       "      <th></th>\n",
       "    </tr>\n",
       "  </thead>\n",
       "  <tbody>\n",
       "    <tr>\n",
       "      <th>2020-01-24</th>\n",
       "      <td>2183.399902</td>\n",
       "      <td>2248.502197</td>\n",
       "    </tr>\n",
       "    <tr>\n",
       "      <th>2020-01-27</th>\n",
       "      <td>2169.250000</td>\n",
       "      <td>2245.138916</td>\n",
       "    </tr>\n",
       "    <tr>\n",
       "      <th>2020-01-28</th>\n",
       "      <td>2183.750000</td>\n",
       "      <td>2240.300049</td>\n",
       "    </tr>\n",
       "    <tr>\n",
       "      <th>2020-01-29</th>\n",
       "      <td>2154.600098</td>\n",
       "      <td>2237.257080</td>\n",
       "    </tr>\n",
       "    <tr>\n",
       "      <th>2020-01-30</th>\n",
       "      <td>2137.850098</td>\n",
       "      <td>2231.733398</td>\n",
       "    </tr>\n",
       "    <tr>\n",
       "      <th>...</th>\n",
       "      <td>...</td>\n",
       "      <td>...</td>\n",
       "    </tr>\n",
       "    <tr>\n",
       "      <th>2022-02-28</th>\n",
       "      <td>3554.199951</td>\n",
       "      <td>3598.186279</td>\n",
       "    </tr>\n",
       "    <tr>\n",
       "      <th>2022-03-02</th>\n",
       "      <td>3546.149902</td>\n",
       "      <td>3573.490479</td>\n",
       "    </tr>\n",
       "    <tr>\n",
       "      <th>2022-03-03</th>\n",
       "      <td>3544.399902</td>\n",
       "      <td>3558.455566</td>\n",
       "    </tr>\n",
       "    <tr>\n",
       "      <th>2022-03-04</th>\n",
       "      <td>3524.350098</td>\n",
       "      <td>3550.019287</td>\n",
       "    </tr>\n",
       "    <tr>\n",
       "      <th>2022-03-07</th>\n",
       "      <td>3484.899902</td>\n",
       "      <td>3543.278809</td>\n",
       "    </tr>\n",
       "  </tbody>\n",
       "</table>\n",
       "<p>526 rows × 2 columns</p>\n",
       "</div>"
      ],
      "text/plain": [
       "                  Close  Predictions\n",
       "Date                                \n",
       "2020-01-24  2183.399902  2248.502197\n",
       "2020-01-27  2169.250000  2245.138916\n",
       "2020-01-28  2183.750000  2240.300049\n",
       "2020-01-29  2154.600098  2237.257080\n",
       "2020-01-30  2137.850098  2231.733398\n",
       "...                 ...          ...\n",
       "2022-02-28  3554.199951  3598.186279\n",
       "2022-03-02  3546.149902  3573.490479\n",
       "2022-03-03  3544.399902  3558.455566\n",
       "2022-03-04  3524.350098  3550.019287\n",
       "2022-03-07  3484.899902  3543.278809\n",
       "\n",
       "[526 rows x 2 columns]"
      ]
     },
     "execution_count": 89,
     "metadata": {},
     "output_type": "execute_result"
    }
   ],
   "source": [
    "valid"
   ]
  },
  {
   "cell_type": "code",
   "execution_count": 90,
   "id": "c48caa46",
   "metadata": {},
   "outputs": [
    {
     "name": "stdout",
     "output_type": "stream",
     "text": [
      "[[3533.2297]]\n"
     ]
    }
   ],
   "source": [
    "tcs_quote = web.DataReader('TCS.NS', data_source='yahoo',start='2012-01-01', end='2022-03-08')\n",
    "new_df = tcs_quote.filter(['Close'])\n",
    "last_60_days = new_df[-60:].values\n",
    "last_60_days_scaled = scaler.transform(last_60_days)\n",
    "X_test=[]\n",
    "X_test.append(last_60_days_scaled)\n",
    "X_test = np.array(X_test)\n",
    "X_test = np.reshape(X_test, (X_test.shape[0], X_test.shape[1], 1))\n",
    "pred_price = model.predict(X_test)\n",
    "pred_price = scaler.inverse_transform(pred_price)\n",
    "print(pred_price)"
   ]
  },
  {
   "cell_type": "code",
   "execution_count": 91,
   "id": "f68096b2",
   "metadata": {},
   "outputs": [
    {
     "name": "stdout",
     "output_type": "stream",
     "text": [
      "Date\n",
      "2022-03-02    3546.149902\n",
      "2022-03-03    3544.399902\n",
      "2022-03-04    3524.350098\n",
      "2022-03-07    3484.899902\n",
      "Name: Close, dtype: float64\n"
     ]
    }
   ],
   "source": [
    "tcs_quote2 = web.DataReader('TCS.NS', data_source='yahoo',start='2022-03-01', end='2022-03-08')\n",
    "print(tcs_quote2['Close'])"
   ]
  },
  {
   "cell_type": "code",
   "execution_count": null,
   "id": "babf2db6",
   "metadata": {},
   "outputs": [],
   "source": []
  }
 ],
 "metadata": {
  "kernelspec": {
   "display_name": "Python 3 (ipykernel)",
   "language": "python",
   "name": "python3"
  },
  "language_info": {
   "codemirror_mode": {
    "name": "ipython",
    "version": 3
   },
   "file_extension": ".py",
   "mimetype": "text/x-python",
   "name": "python",
   "nbconvert_exporter": "python",
   "pygments_lexer": "ipython3",
   "version": "3.9.7"
  }
 },
 "nbformat": 4,
 "nbformat_minor": 5
}
