{
 "cells": [
  {
   "cell_type": "code",
   "execution_count": 1,
   "id": "26eaf53a",
   "metadata": {},
   "outputs": [],
   "source": [
    "import math\n",
    "import pandas_datareader as web\n",
    "import numpy as np\n",
    "import pandas as pd\n",
    "from sklearn.preprocessing import MinMaxScaler\n",
    "from keras.models import Sequential\n",
    "from keras.layers import Dense, LSTM\n",
    "import matplotlib.pyplot as plt"
   ]
  },
  {
   "cell_type": "code",
   "execution_count": 2,
   "id": "4692c9f9",
   "metadata": {},
   "outputs": [
    {
     "data": {
      "text/html": [
       "<div>\n",
       "<style scoped>\n",
       "    .dataframe tbody tr th:only-of-type {\n",
       "        vertical-align: middle;\n",
       "    }\n",
       "\n",
       "    .dataframe tbody tr th {\n",
       "        vertical-align: top;\n",
       "    }\n",
       "\n",
       "    .dataframe thead th {\n",
       "        text-align: right;\n",
       "    }\n",
       "</style>\n",
       "<table border=\"1\" class=\"dataframe\">\n",
       "  <thead>\n",
       "    <tr style=\"text-align: right;\">\n",
       "      <th></th>\n",
       "      <th>High</th>\n",
       "      <th>Low</th>\n",
       "      <th>Open</th>\n",
       "      <th>Close</th>\n",
       "      <th>Volume</th>\n",
       "      <th>Adj Close</th>\n",
       "    </tr>\n",
       "    <tr>\n",
       "      <th>Date</th>\n",
       "      <th></th>\n",
       "      <th></th>\n",
       "      <th></th>\n",
       "      <th></th>\n",
       "      <th></th>\n",
       "      <th></th>\n",
       "    </tr>\n",
       "  </thead>\n",
       "  <tbody>\n",
       "    <tr>\n",
       "      <th>2012-01-03</th>\n",
       "      <td>5.900000</td>\n",
       "      <td>5.530000</td>\n",
       "      <td>5.788000</td>\n",
       "      <td>5.616000</td>\n",
       "      <td>4640500.0</td>\n",
       "      <td>5.616000</td>\n",
       "    </tr>\n",
       "    <tr>\n",
       "      <th>2012-01-04</th>\n",
       "      <td>5.734000</td>\n",
       "      <td>5.500000</td>\n",
       "      <td>5.642000</td>\n",
       "      <td>5.542000</td>\n",
       "      <td>3150500.0</td>\n",
       "      <td>5.542000</td>\n",
       "    </tr>\n",
       "    <tr>\n",
       "      <th>2012-01-05</th>\n",
       "      <td>5.586000</td>\n",
       "      <td>5.370000</td>\n",
       "      <td>5.552000</td>\n",
       "      <td>5.424000</td>\n",
       "      <td>5027500.0</td>\n",
       "      <td>5.424000</td>\n",
       "    </tr>\n",
       "    <tr>\n",
       "      <th>2012-01-06</th>\n",
       "      <td>5.558000</td>\n",
       "      <td>5.282000</td>\n",
       "      <td>5.440000</td>\n",
       "      <td>5.382000</td>\n",
       "      <td>4931500.0</td>\n",
       "      <td>5.382000</td>\n",
       "    </tr>\n",
       "    <tr>\n",
       "      <th>2012-01-09</th>\n",
       "      <td>5.498000</td>\n",
       "      <td>5.224000</td>\n",
       "      <td>5.400000</td>\n",
       "      <td>5.450000</td>\n",
       "      <td>4485000.0</td>\n",
       "      <td>5.450000</td>\n",
       "    </tr>\n",
       "    <tr>\n",
       "      <th>...</th>\n",
       "      <td>...</td>\n",
       "      <td>...</td>\n",
       "      <td>...</td>\n",
       "      <td>...</td>\n",
       "      <td>...</td>\n",
       "      <td>...</td>\n",
       "    </tr>\n",
       "    <tr>\n",
       "      <th>2022-03-01</th>\n",
       "      <td>889.880005</td>\n",
       "      <td>853.780029</td>\n",
       "      <td>869.679993</td>\n",
       "      <td>864.369995</td>\n",
       "      <td>24922300.0</td>\n",
       "      <td>864.369995</td>\n",
       "    </tr>\n",
       "    <tr>\n",
       "      <th>2022-03-02</th>\n",
       "      <td>886.479980</td>\n",
       "      <td>844.270020</td>\n",
       "      <td>872.130005</td>\n",
       "      <td>879.890015</td>\n",
       "      <td>24881100.0</td>\n",
       "      <td>879.890015</td>\n",
       "    </tr>\n",
       "    <tr>\n",
       "      <th>2022-03-03</th>\n",
       "      <td>886.440002</td>\n",
       "      <td>832.599976</td>\n",
       "      <td>878.770020</td>\n",
       "      <td>839.289978</td>\n",
       "      <td>20541200.0</td>\n",
       "      <td>839.289978</td>\n",
       "    </tr>\n",
       "    <tr>\n",
       "      <th>2022-03-04</th>\n",
       "      <td>855.650024</td>\n",
       "      <td>825.159973</td>\n",
       "      <td>849.099976</td>\n",
       "      <td>838.289978</td>\n",
       "      <td>22333200.0</td>\n",
       "      <td>838.289978</td>\n",
       "    </tr>\n",
       "    <tr>\n",
       "      <th>2022-03-07</th>\n",
       "      <td>866.140015</td>\n",
       "      <td>804.570007</td>\n",
       "      <td>856.299988</td>\n",
       "      <td>804.580017</td>\n",
       "      <td>24164724.0</td>\n",
       "      <td>804.580017</td>\n",
       "    </tr>\n",
       "  </tbody>\n",
       "</table>\n",
       "<p>2561 rows × 6 columns</p>\n",
       "</div>"
      ],
      "text/plain": [
       "                  High         Low        Open       Close      Volume  \\\n",
       "Date                                                                     \n",
       "2012-01-03    5.900000    5.530000    5.788000    5.616000   4640500.0   \n",
       "2012-01-04    5.734000    5.500000    5.642000    5.542000   3150500.0   \n",
       "2012-01-05    5.586000    5.370000    5.552000    5.424000   5027500.0   \n",
       "2012-01-06    5.558000    5.282000    5.440000    5.382000   4931500.0   \n",
       "2012-01-09    5.498000    5.224000    5.400000    5.450000   4485000.0   \n",
       "...                ...         ...         ...         ...         ...   \n",
       "2022-03-01  889.880005  853.780029  869.679993  864.369995  24922300.0   \n",
       "2022-03-02  886.479980  844.270020  872.130005  879.890015  24881100.0   \n",
       "2022-03-03  886.440002  832.599976  878.770020  839.289978  20541200.0   \n",
       "2022-03-04  855.650024  825.159973  849.099976  838.289978  22333200.0   \n",
       "2022-03-07  866.140015  804.570007  856.299988  804.580017  24164724.0   \n",
       "\n",
       "             Adj Close  \n",
       "Date                    \n",
       "2012-01-03    5.616000  \n",
       "2012-01-04    5.542000  \n",
       "2012-01-05    5.424000  \n",
       "2012-01-06    5.382000  \n",
       "2012-01-09    5.450000  \n",
       "...                ...  \n",
       "2022-03-01  864.369995  \n",
       "2022-03-02  879.890015  \n",
       "2022-03-03  839.289978  \n",
       "2022-03-04  838.289978  \n",
       "2022-03-07  804.580017  \n",
       "\n",
       "[2561 rows x 6 columns]"
      ]
     },
     "execution_count": 2,
     "metadata": {},
     "output_type": "execute_result"
    }
   ],
   "source": [
    "df = web.DataReader('TSLA', data_source='yahoo',start='2012-01-01', end='2022-03-07')\n",
    "df"
   ]
  },
  {
   "cell_type": "code",
   "execution_count": 3,
   "id": "b667de9e",
   "metadata": {},
   "outputs": [
    {
     "data": {
      "text/plain": [
       "2075"
      ]
     },
     "execution_count": 3,
     "metadata": {},
     "output_type": "execute_result"
    }
   ],
   "source": [
    "data = df.filter(['Close'])\n",
    "dataset=data.values\n",
    "training_data_len = math.ceil(len(dataset)*.81)\n",
    "training_data_len"
   ]
  },
  {
   "cell_type": "code",
   "execution_count": 4,
   "id": "56d7ee58",
   "metadata": {},
   "outputs": [
    {
     "data": {
      "image/png": "[encoded data removed]",
      "text/plain": [
       "<Figure size 1152x576 with 1 Axes>"
      ]
     },
     "metadata": {
      "needs_background": "light"
     },
     "output_type": "display_data"
    }
   ],
   "source": [
    "plt.figure(figsize=(16,8))\n",
    "plt.title('Close Price History')\n",
    "plt.plot(df['Close'])\n",
    "plt.xlabel('Date',fontsize=18)\n",
    "plt.ylabel('Close Price (USD)',fontsize=18)\n",
    "plt.show()"
   ]
  },
  {
   "cell_type": "code",
   "execution_count": 5,
   "id": "237ca7af",
   "metadata": {},
   "outputs": [
    {
     "data": {
      "text/plain": [
       "array([[0.00086343],\n",
       "       [0.00080303],\n",
       "       [0.00070674],\n",
       "       ...,\n",
       "       [0.68121809],\n",
       "       [0.680402  ],\n",
       "       [0.65289157]])"
      ]
     },
     "execution_count": 5,
     "metadata": {},
     "output_type": "execute_result"
    }
   ],
   "source": [
    "scaler = MinMaxScaler(feature_range=(0,1))\n",
    "scaled_data = scaler.fit_transform(dataset)\n",
    "scaled_data"
   ]
  },
  {
   "cell_type": "code",
   "execution_count": 6,
   "id": "9ef83443",
   "metadata": {},
   "outputs": [
    {
     "name": "stdout",
     "output_type": "stream",
     "text": [
      "[array([0.00086343, 0.00080303, 0.00070674, 0.00067246, 0.00072795,\n",
      "       0.00078834, 0.00088791, 0.00089117, 0.        , 0.00062186,\n",
      "       0.00065614, 0.00064798, 0.00062186, 0.00064961, 0.0007557 ,\n",
      "       0.00084547, 0.00100379, 0.00106745, 0.00110662, 0.00102501,\n",
      "       0.00110825, 0.00121761, 0.00136451, 0.0014706 , 0.00143795,\n",
      "       0.00149182, 0.00159791, 0.00135634, 0.00142   , 0.00169421,\n",
      "       0.00176439, 0.00185906, 0.001988  , 0.00191129, 0.00186559,\n",
      "       0.00191618, 0.00178887, 0.00176766, 0.00179867, 0.00173338,\n",
      "       0.0018966 , 0.00183621, 0.00179214, 0.00168441, 0.00168605,\n",
      "       0.00167788, 0.00195046, 0.00215775, 0.0021708 , 0.00204023,\n",
      "       0.0019929 , 0.00204513, 0.00198963, 0.00198637, 0.00201738,\n",
      "       0.00189497, 0.00184274, 0.00238462, 0.00247276, 0.00245807])]\n",
      "[0.0023731955482700017]\n",
      "\n"
     ]
    }
   ],
   "source": [
    "train_data = scaled_data[0:training_data_len , :]\n",
    "x_train = []\n",
    "y_train = []\n",
    "\n",
    "for i in range(60, len(train_data)):\n",
    "    x_train.append(train_data[i-60:i, 0])\n",
    "    y_train.append(train_data[i, 0])\n",
    "    if i<=60:\n",
    "        print(x_train)\n",
    "        print(y_train)\n",
    "        print()"
   ]
  },
  {
   "cell_type": "code",
   "execution_count": 7,
   "id": "5caacbc9",
   "metadata": {},
   "outputs": [],
   "source": [
    "x_train,y_train = np.array(x_train), np.array(y_train)"
   ]
  },
  {
   "cell_type": "code",
   "execution_count": 8,
   "id": "caf26077",
   "metadata": {},
   "outputs": [
    {
     "data": {
      "text/plain": [
       "(2015, 60, 1)"
      ]
     },
     "execution_count": 8,
     "metadata": {},
     "output_type": "execute_result"
    }
   ],
   "source": [
    "x_train = np.reshape(x_train,(x_train.shape[0],x_train.shape[1], 1))\n",
    "x_train.shape"
   ]
  },
  {
   "cell_type": "code",
   "execution_count": 9,
   "id": "7be1c39c",
   "metadata": {},
   "outputs": [],
   "source": [
    "model = Sequential()\n",
    "model.add(LSTM(50, return_sequences=True, input_shape = (x_train.shape[1],1)))\n",
    "model.add(LSTM(50, return_sequences=False))\n",
    "model.add(Dense(25))\n",
    "model.add(Dense(1))"
   ]
  },
  {
   "cell_type": "code",
   "execution_count": 10,
   "id": "ef8440fd",
   "metadata": {},
   "outputs": [],
   "source": [
    "model.compile(optimizer='adam',loss='mean_squared_error')"
   ]
  },
  {
   "cell_type": "code",
   "execution_count": 11,
   "id": "8242b31c",
   "metadata": {},
   "outputs": [
    {
     "name": "stdout",
     "output_type": "stream",
     "text": [
      "2015/2015 [==============================] - 38s 18ms/step - loss: 4.2102e-05\n"
     ]
    },
    {
     "data": {
      "text/plain": [
       "<keras.callbacks.History at 0x10f5d908220>"
      ]
     },
     "execution_count": 11,
     "metadata": {},
     "output_type": "execute_result"
    }
   ],
   "source": [
    "model.fit(x_train, y_train, batch_size=1, epochs=1)"
   ]
  },
  {
   "cell_type": "code",
   "execution_count": 12,
   "id": "9a57681d",
   "metadata": {},
   "outputs": [],
   "source": [
    "test_data = scaled_data[training_data_len-60: , :]\n",
    "x_test=[]\n",
    "y_test=dataset[training_data_len:, :]\n",
    "for i in range(60, len(test_data)):\n",
    "    x_test.append(test_data[i-60:i, 0])"
   ]
  },
  {
   "cell_type": "code",
   "execution_count": 13,
   "id": "f008740f",
   "metadata": {},
   "outputs": [],
   "source": [
    "x_test = np.array(x_test)"
   ]
  },
  {
   "cell_type": "code",
   "execution_count": 14,
   "id": "40e8c9bc",
   "metadata": {},
   "outputs": [],
   "source": [
    "x_test = np.reshape(x_test, (x_test.shape[0], x_test.shape[1], 1))"
   ]
  },
  {
   "cell_type": "code",
   "execution_count": 15,
   "id": "733d4940",
   "metadata": {},
   "outputs": [],
   "source": [
    "predictions = model.predict(x_test)\n",
    "predictions = scaler.inverse_transform(predictions)"
   ]
  },
  {
   "cell_type": "code",
   "execution_count": 16,
   "id": "bff7158c",
   "metadata": {},
   "outputs": [
    {
     "data": {
      "text/plain": [
       "11.688340756137675"
      ]
     },
     "execution_count": 16,
     "metadata": {},
     "output_type": "execute_result"
    }
   ],
   "source": [
    "rmse = np.sqrt(np.mean(predictions - y_test)**2)\n",
    "rmse"
   ]
  },
  {
   "cell_type": "code",
   "execution_count": 17,
   "id": "0726aa1c",
   "metadata": {},
   "outputs": [
    {
     "name": "stderr",
     "output_type": "stream",
     "text": [
      "C:\\Users\\kapoo\\AppData\\Local\\Temp/ipykernel_7304/2133332622.py:3: SettingWithCopyWarning: \n",
      "A value is trying to be set on a copy of a slice from a DataFrame.\n",
      "Try using .loc[row_indexer,col_indexer] = value instead\n",
      "\n",
      "See the caveats in the documentation: https://pandas.pydata.org/pandas-docs/stable/user_guide/indexing.html#returning-a-view-versus-a-copy\n",
      "  valid['Predictions'] = predictions\n"
     ]
    },
    {
     "data": {
      "image/png": "[encoded data removed]",
      "text/plain": [
       "<Figure size 1152x576 with 1 Axes>"
      ]
     },
     "metadata": {
      "needs_background": "light"
     },
     "output_type": "display_data"
    }
   ],
   "source": [
    "train = data[:training_data_len]\n",
    "valid = data[training_data_len:]\n",
    "valid['Predictions'] = predictions\n",
    "plt.figure(figsize=(16,8))\n",
    "plt.title('Model')\n",
    "plt.xlabel('Date',fontsize=18)\n",
    "plt.ylabel('Close Price (USD)',fontsize=18)\n",
    "plt.plot(train['Close'])\n",
    "plt.plot(valid[['Close','Predictions']])\n",
    "plt.legend(['Train', 'Val', 'Predictions'], loc ='lower right')\n",
    "plt.show()"
   ]
  },
  {
   "cell_type": "code",
   "execution_count": 18,
   "id": "6fe23dca",
   "metadata": {},
   "outputs": [
    {
     "data": {
      "text/html": [
       "<div>\n",
       "<style scoped>\n",
       "    .dataframe tbody tr th:only-of-type {\n",
       "        vertical-align: middle;\n",
       "    }\n",
       "\n",
       "    .dataframe tbody tr th {\n",
       "        vertical-align: top;\n",
       "    }\n",
       "\n",
       "    .dataframe thead th {\n",
       "        text-align: right;\n",
       "    }\n",
       "</style>\n",
       "<table border=\"1\" class=\"dataframe\">\n",
       "  <thead>\n",
       "    <tr style=\"text-align: right;\">\n",
       "      <th></th>\n",
       "      <th>Close</th>\n",
       "      <th>Predictions</th>\n",
       "    </tr>\n",
       "    <tr>\n",
       "      <th>Date</th>\n",
       "      <th></th>\n",
       "      <th></th>\n",
       "    </tr>\n",
       "  </thead>\n",
       "  <tbody>\n",
       "    <tr>\n",
       "      <th>2020-04-02</th>\n",
       "      <td>90.893997</td>\n",
       "      <td>109.246384</td>\n",
       "    </tr>\n",
       "    <tr>\n",
       "      <th>2020-04-03</th>\n",
       "      <td>96.001999</td>\n",
       "      <td>107.243233</td>\n",
       "    </tr>\n",
       "    <tr>\n",
       "      <th>2020-04-06</th>\n",
       "      <td>103.248001</td>\n",
       "      <td>105.762260</td>\n",
       "    </tr>\n",
       "    <tr>\n",
       "      <th>2020-04-07</th>\n",
       "      <td>109.089996</td>\n",
       "      <td>106.007683</td>\n",
       "    </tr>\n",
       "    <tr>\n",
       "      <th>2020-04-08</th>\n",
       "      <td>109.767998</td>\n",
       "      <td>107.950661</td>\n",
       "    </tr>\n",
       "    <tr>\n",
       "      <th>...</th>\n",
       "      <td>...</td>\n",
       "      <td>...</td>\n",
       "    </tr>\n",
       "    <tr>\n",
       "      <th>2022-03-01</th>\n",
       "      <td>864.369995</td>\n",
       "      <td>804.367676</td>\n",
       "    </tr>\n",
       "    <tr>\n",
       "      <th>2022-03-02</th>\n",
       "      <td>879.890015</td>\n",
       "      <td>814.129333</td>\n",
       "    </tr>\n",
       "    <tr>\n",
       "      <th>2022-03-03</th>\n",
       "      <td>839.289978</td>\n",
       "      <td>826.989746</td>\n",
       "    </tr>\n",
       "    <tr>\n",
       "      <th>2022-03-04</th>\n",
       "      <td>838.289978</td>\n",
       "      <td>831.444763</td>\n",
       "    </tr>\n",
       "    <tr>\n",
       "      <th>2022-03-07</th>\n",
       "      <td>804.580017</td>\n",
       "      <td>831.807434</td>\n",
       "    </tr>\n",
       "  </tbody>\n",
       "</table>\n",
       "<p>486 rows × 2 columns</p>\n",
       "</div>"
      ],
      "text/plain": [
       "                 Close  Predictions\n",
       "Date                               \n",
       "2020-04-02   90.893997   109.246384\n",
       "2020-04-03   96.001999   107.243233\n",
       "2020-04-06  103.248001   105.762260\n",
       "2020-04-07  109.089996   106.007683\n",
       "2020-04-08  109.767998   107.950661\n",
       "...                ...          ...\n",
       "2022-03-01  864.369995   804.367676\n",
       "2022-03-02  879.890015   814.129333\n",
       "2022-03-03  839.289978   826.989746\n",
       "2022-03-04  838.289978   831.444763\n",
       "2022-03-07  804.580017   831.807434\n",
       "\n",
       "[486 rows x 2 columns]"
      ]
     },
     "execution_count": 18,
     "metadata": {},
     "output_type": "execute_result"
    }
   ],
   "source": [
    "valid"
   ]
  },
  {
   "cell_type": "code",
   "execution_count": 19,
   "id": "5186056a",
   "metadata": {},
   "outputs": [
    {
     "name": "stdout",
     "output_type": "stream",
     "text": [
      "[[824.28467]]\n"
     ]
    }
   ],
   "source": [
    "tsla_quote = web.DataReader('TSLA', data_source='yahoo',start='2012-01-01', end='2022-03-07')\n",
    "new_df = tsla_quote.filter(['Close'])\n",
    "last_60_days = new_df[-60:].values\n",
    "last_60_days_scaled = scaler.transform(last_60_days)\n",
    "X_test=[]\n",
    "X_test.append(last_60_days_scaled)\n",
    "X_test = np.array(X_test)\n",
    "X_test = np.reshape(X_test, (X_test.shape[0], X_test.shape[1], 1))\n",
    "pred_price = model.predict(X_test)\n",
    "pred_price = scaler.inverse_transform(pred_price)\n",
    "print(pred_price)"
   ]
  },
  {
   "cell_type": "code",
   "execution_count": 20,
   "id": "62ec31fd",
   "metadata": {},
   "outputs": [
    {
     "name": "stdout",
     "output_type": "stream",
     "text": [
      "Date\n",
      "2022-02-28    870.429993\n",
      "2022-03-01    864.369995\n",
      "2022-03-02    879.890015\n",
      "2022-03-03    839.289978\n",
      "2022-03-04    838.289978\n",
      "2022-03-07    804.580017\n",
      "Name: Close, dtype: float64\n"
     ]
    }
   ],
   "source": [
    "tsla_quote2 = web.DataReader('TSLA', data_source='yahoo',start='2022-03-01', end='2022-03-07')\n",
    "print(tsla_quote2['Close'])"
   ]
  },
  {
   "cell_type": "code",
   "execution_count": null,
   "id": "5c732e1c",
   "metadata": {},
   "outputs": [],
   "source": []
  }
 ],
 "metadata": {
  "kernelspec": {
   "display_name": "Python 3 (ipykernel)",
   "language": "python",
   "name": "python3"
  },
  "language_info": {
   "codemirror_mode": {
    "name": "ipython",
    "version": 3
   },
   "file_extension": ".py",
   "mimetype": "text/x-python",
   "name": "python",
   "nbconvert_exporter": "python",
   "pygments_lexer": "ipython3",
   "version": "3.9.7"
  }
 },
 "nbformat": 4,
 "nbformat_minor": 5
}
