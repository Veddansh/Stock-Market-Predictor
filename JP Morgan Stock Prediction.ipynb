{
 "cells": [
  {
   "cell_type": "code",
   "execution_count": 1,
   "id": "64ca15c1",
   "metadata": {},
   "outputs": [],
   "source": [
    "import math\n",
    "import pandas_datareader as web\n",
    "import numpy as np\n",
    "import pandas as pd\n",
    "from sklearn.preprocessing import MinMaxScaler\n",
    "from keras.models import Sequential\n",
    "from keras.layers import Dense, LSTM\n",
    "import matplotlib.pyplot as plt"
   ]
  },
  {
   "cell_type": "code",
   "execution_count": 2,
   "id": "177465ec",
   "metadata": {},
   "outputs": [
    {
     "data": {
      "text/html": [
       "<div>\n",
       "<style scoped>\n",
       "    .dataframe tbody tr th:only-of-type {\n",
       "        vertical-align: middle;\n",
       "    }\n",
       "\n",
       "    .dataframe tbody tr th {\n",
       "        vertical-align: top;\n",
       "    }\n",
       "\n",
       "    .dataframe thead th {\n",
       "        text-align: right;\n",
       "    }\n",
       "</style>\n",
       "<table border=\"1\" class=\"dataframe\">\n",
       "  <thead>\n",
       "    <tr style=\"text-align: right;\">\n",
       "      <th></th>\n",
       "      <th>High</th>\n",
       "      <th>Low</th>\n",
       "      <th>Open</th>\n",
       "      <th>Close</th>\n",
       "      <th>Volume</th>\n",
       "      <th>Adj Close</th>\n",
       "    </tr>\n",
       "    <tr>\n",
       "      <th>Date</th>\n",
       "      <th></th>\n",
       "      <th></th>\n",
       "      <th></th>\n",
       "      <th></th>\n",
       "      <th></th>\n",
       "      <th></th>\n",
       "    </tr>\n",
       "  </thead>\n",
       "  <tbody>\n",
       "    <tr>\n",
       "      <th>2012-01-03</th>\n",
       "      <td>35.189999</td>\n",
       "      <td>34.009998</td>\n",
       "      <td>34.060001</td>\n",
       "      <td>34.980000</td>\n",
       "      <td>44102800.0</td>\n",
       "      <td>26.391466</td>\n",
       "    </tr>\n",
       "    <tr>\n",
       "      <th>2012-01-04</th>\n",
       "      <td>35.150002</td>\n",
       "      <td>34.330002</td>\n",
       "      <td>34.439999</td>\n",
       "      <td>34.950001</td>\n",
       "      <td>36571200.0</td>\n",
       "      <td>26.558649</td>\n",
       "    </tr>\n",
       "    <tr>\n",
       "      <th>2012-01-05</th>\n",
       "      <td>35.919998</td>\n",
       "      <td>34.400002</td>\n",
       "      <td>34.709999</td>\n",
       "      <td>35.680000</td>\n",
       "      <td>38381400.0</td>\n",
       "      <td>27.113379</td>\n",
       "    </tr>\n",
       "    <tr>\n",
       "      <th>2012-01-06</th>\n",
       "      <td>35.770000</td>\n",
       "      <td>35.139999</td>\n",
       "      <td>35.689999</td>\n",
       "      <td>35.360001</td>\n",
       "      <td>33160600.0</td>\n",
       "      <td>26.870209</td>\n",
       "    </tr>\n",
       "    <tr>\n",
       "      <th>2012-01-09</th>\n",
       "      <td>35.680000</td>\n",
       "      <td>34.990002</td>\n",
       "      <td>35.439999</td>\n",
       "      <td>35.299999</td>\n",
       "      <td>23001800.0</td>\n",
       "      <td>26.824614</td>\n",
       "    </tr>\n",
       "    <tr>\n",
       "      <th>...</th>\n",
       "      <td>...</td>\n",
       "      <td>...</td>\n",
       "      <td>...</td>\n",
       "      <td>...</td>\n",
       "      <td>...</td>\n",
       "      <td>...</td>\n",
       "    </tr>\n",
       "    <tr>\n",
       "      <th>2022-03-01</th>\n",
       "      <td>140.479996</td>\n",
       "      <td>133.580002</td>\n",
       "      <td>140.039993</td>\n",
       "      <td>136.449997</td>\n",
       "      <td>36840400.0</td>\n",
       "      <td>136.449997</td>\n",
       "    </tr>\n",
       "    <tr>\n",
       "      <th>2022-03-02</th>\n",
       "      <td>140.039993</td>\n",
       "      <td>136.610001</td>\n",
       "      <td>137.289993</td>\n",
       "      <td>139.279999</td>\n",
       "      <td>19405600.0</td>\n",
       "      <td>139.279999</td>\n",
       "    </tr>\n",
       "    <tr>\n",
       "      <th>2022-03-03</th>\n",
       "      <td>140.979996</td>\n",
       "      <td>137.059998</td>\n",
       "      <td>139.839996</td>\n",
       "      <td>138.289993</td>\n",
       "      <td>16640800.0</td>\n",
       "      <td>138.289993</td>\n",
       "    </tr>\n",
       "    <tr>\n",
       "      <th>2022-03-04</th>\n",
       "      <td>135.419998</td>\n",
       "      <td>132.399994</td>\n",
       "      <td>134.940002</td>\n",
       "      <td>134.399994</td>\n",
       "      <td>21016000.0</td>\n",
       "      <td>134.399994</td>\n",
       "    </tr>\n",
       "    <tr>\n",
       "      <th>2022-03-07</th>\n",
       "      <td>132.690002</td>\n",
       "      <td>128.951294</td>\n",
       "      <td>132.169998</td>\n",
       "      <td>129.210007</td>\n",
       "      <td>26502569.0</td>\n",
       "      <td>129.210007</td>\n",
       "    </tr>\n",
       "  </tbody>\n",
       "</table>\n",
       "<p>2561 rows × 6 columns</p>\n",
       "</div>"
      ],
      "text/plain": [
       "                  High         Low        Open       Close      Volume  \\\n",
       "Date                                                                     \n",
       "2012-01-03   35.189999   34.009998   34.060001   34.980000  44102800.0   \n",
       "2012-01-04   35.150002   34.330002   34.439999   34.950001  36571200.0   \n",
       "2012-01-05   35.919998   34.400002   34.709999   35.680000  38381400.0   \n",
       "2012-01-06   35.770000   35.139999   35.689999   35.360001  33160600.0   \n",
       "2012-01-09   35.680000   34.990002   35.439999   35.299999  23001800.0   \n",
       "...                ...         ...         ...         ...         ...   \n",
       "2022-03-01  140.479996  133.580002  140.039993  136.449997  36840400.0   \n",
       "2022-03-02  140.039993  136.610001  137.289993  139.279999  19405600.0   \n",
       "2022-03-03  140.979996  137.059998  139.839996  138.289993  16640800.0   \n",
       "2022-03-04  135.419998  132.399994  134.940002  134.399994  21016000.0   \n",
       "2022-03-07  132.690002  128.951294  132.169998  129.210007  26502569.0   \n",
       "\n",
       "             Adj Close  \n",
       "Date                    \n",
       "2012-01-03   26.391466  \n",
       "2012-01-04   26.558649  \n",
       "2012-01-05   27.113379  \n",
       "2012-01-06   26.870209  \n",
       "2012-01-09   26.824614  \n",
       "...                ...  \n",
       "2022-03-01  136.449997  \n",
       "2022-03-02  139.279999  \n",
       "2022-03-03  138.289993  \n",
       "2022-03-04  134.399994  \n",
       "2022-03-07  129.210007  \n",
       "\n",
       "[2561 rows x 6 columns]"
      ]
     },
     "execution_count": 2,
     "metadata": {},
     "output_type": "execute_result"
    }
   ],
   "source": [
    "df = web.DataReader('JPM', data_source='yahoo',start='2012-01-01', end='2022-03-07')\n",
    "df"
   ]
  },
  {
   "cell_type": "code",
   "execution_count": 19,
   "id": "35dc3644",
   "metadata": {},
   "outputs": [
    {
     "data": {
      "text/plain": [
       "2049"
      ]
     },
     "execution_count": 19,
     "metadata": {},
     "output_type": "execute_result"
    }
   ],
   "source": [
    "data = df.filter(['Close'])\n",
    "dataset=data.values\n",
    "training_data_len = math.ceil(len(dataset)*.8)\n",
    "training_data_len"
   ]
  },
  {
   "cell_type": "code",
   "execution_count": 20,
   "id": "6afbe600",
   "metadata": {},
   "outputs": [
    {
     "data": {
      "image/png": "[encoded data removed]",
      "text/plain": [
       "<Figure size 1152x576 with 1 Axes>"
      ]
     },
     "metadata": {
      "needs_background": "light"
     },
     "output_type": "display_data"
    }
   ],
   "source": [
    "plt.figure(figsize=(16,8))\n",
    "plt.title('Close Price History')\n",
    "plt.plot(df['Close'])\n",
    "plt.xlabel('Date',fontsize=18)\n",
    "plt.ylabel('Close Price (USD)',fontsize=18)\n",
    "plt.show()"
   ]
  },
  {
   "cell_type": "code",
   "execution_count": 21,
   "id": "4ac60511",
   "metadata": {},
   "outputs": [
    {
     "data": {
      "text/plain": [
       "array([[0.02827106],\n",
       "       [0.02805797],\n",
       "       [0.03324336],\n",
       "       ...,\n",
       "       [0.76211105],\n",
       "       [0.73447929],\n",
       "       [0.69761335]])"
      ]
     },
     "execution_count": 21,
     "metadata": {},
     "output_type": "execute_result"
    }
   ],
   "source": [
    "scaler = MinMaxScaler(feature_range=(0,1))\n",
    "scaled_data = scaler.fit_transform(dataset)\n",
    "scaled_data"
   ]
  },
  {
   "cell_type": "code",
   "execution_count": 22,
   "id": "ac561b9a",
   "metadata": {},
   "outputs": [
    {
     "name": "stdout",
     "output_type": "stream",
     "text": [
      "[array([0.02827106, 0.02805797, 0.03324336, 0.03097031, 0.03054411,\n",
      "       0.03587157, 0.04020457, 0.04155419, 0.03494813, 0.02777383,\n",
      "       0.03935219, 0.04212246, 0.04517688, 0.04730786, 0.04730786,\n",
      "       0.04688165, 0.04610031, 0.04411137, 0.04269071, 0.04475067,\n",
      "       0.04688165, 0.04652649, 0.05171188, 0.05071743, 0.04879954,\n",
      "       0.05185395, 0.04872852, 0.0469527 , 0.05185395, 0.0491547 ,\n",
      "       0.04546101, 0.04972297, 0.05306152, 0.05299048, 0.0502202 ,\n",
      "       0.05320359, 0.05171188, 0.05725246, 0.05831794, 0.05853105,\n",
      "       0.06655774, 0.06840461, 0.06677086, 0.0590993 , 0.06357438,\n",
      "       0.06705497, 0.07124591, 0.06776531, 0.08800966, 0.0893593 ,\n",
      "       0.09731497, 0.09639153, 0.09944594, 0.1021452 , 0.10029833,\n",
      "       0.09695981, 0.10058247, 0.10775677, 0.10576786, 0.10846712])]\n",
      "[0.1042051306730277]\n",
      "\n"
     ]
    }
   ],
   "source": [
    "train_data = scaled_data[0:training_data_len , :]\n",
    "x_train = []\n",
    "y_train = []\n",
    "\n",
    "for i in range(60, len(train_data)):\n",
    "    x_train.append(train_data[i-60:i, 0])\n",
    "    y_train.append(train_data[i, 0])\n",
    "    if i<=60:\n",
    "        print(x_train)\n",
    "        print(y_train)\n",
    "        print()"
   ]
  },
  {
   "cell_type": "code",
   "execution_count": 23,
   "id": "5a0d7839",
   "metadata": {},
   "outputs": [],
   "source": [
    "x_train,y_train = np.array(x_train), np.array(y_train)"
   ]
  },
  {
   "cell_type": "code",
   "execution_count": 24,
   "id": "edcd1b76",
   "metadata": {},
   "outputs": [
    {
     "data": {
      "text/plain": [
       "(1989, 60, 1)"
      ]
     },
     "execution_count": 24,
     "metadata": {},
     "output_type": "execute_result"
    }
   ],
   "source": [
    "x_train = np.reshape(x_train,(x_train.shape[0],x_train.shape[1], 1))\n",
    "x_train.shape"
   ]
  },
  {
   "cell_type": "code",
   "execution_count": 25,
   "id": "02d80021",
   "metadata": {},
   "outputs": [],
   "source": [
    "model = Sequential()\n",
    "model.add(LSTM(50, return_sequences=True, input_shape = (x_train.shape[1],1)))\n",
    "model.add(LSTM(50, return_sequences=False))\n",
    "model.add(Dense(25))\n",
    "model.add(Dense(1))"
   ]
  },
  {
   "cell_type": "code",
   "execution_count": 26,
   "id": "3436a2d4",
   "metadata": {},
   "outputs": [],
   "source": [
    "model.compile(optimizer='adam',loss='mean_squared_error')"
   ]
  },
  {
   "cell_type": "code",
   "execution_count": 27,
   "id": "9965f8bb",
   "metadata": {},
   "outputs": [
    {
     "name": "stdout",
     "output_type": "stream",
     "text": [
      "1989/1989 [==============================] - 35s 17ms/step - loss: 0.0010\n"
     ]
    },
    {
     "data": {
      "text/plain": [
       "<keras.callbacks.History at 0x21ba0273df0>"
      ]
     },
     "execution_count": 27,
     "metadata": {},
     "output_type": "execute_result"
    }
   ],
   "source": [
    "model.fit(x_train, y_train, batch_size=1, epochs=1)"
   ]
  },
  {
   "cell_type": "code",
   "execution_count": 28,
   "id": "5489c3c2",
   "metadata": {},
   "outputs": [],
   "source": [
    "test_data = scaled_data[training_data_len-60: , :]\n",
    "x_test=[]\n",
    "y_test=dataset[training_data_len:, :]\n",
    "for i in range(60, len(test_data)):\n",
    "    x_test.append(test_data[i-60:i, 0])"
   ]
  },
  {
   "cell_type": "code",
   "execution_count": 29,
   "id": "c74a8b8f",
   "metadata": {},
   "outputs": [],
   "source": [
    "x_test = np.array(x_test)"
   ]
  },
  {
   "cell_type": "code",
   "execution_count": 30,
   "id": "06997958",
   "metadata": {},
   "outputs": [],
   "source": [
    "x_test = np.reshape(x_test, (x_test.shape[0], x_test.shape[1], 1))"
   ]
  },
  {
   "cell_type": "code",
   "execution_count": 31,
   "id": "d573eeb2",
   "metadata": {},
   "outputs": [],
   "source": [
    "predictions = model.predict(x_test)\n",
    "predictions = scaler.inverse_transform(predictions)"
   ]
  },
  {
   "cell_type": "code",
   "execution_count": 32,
   "id": "1416e069",
   "metadata": {},
   "outputs": [
    {
     "data": {
      "text/plain": [
       "2.5058731883764267"
      ]
     },
     "execution_count": 32,
     "metadata": {},
     "output_type": "execute_result"
    }
   ],
   "source": [
    "rmse = np.sqrt(np.mean(predictions - y_test)**2)\n",
    "rmse"
   ]
  },
  {
   "cell_type": "code",
   "execution_count": 33,
   "id": "bcb9e267",
   "metadata": {},
   "outputs": [
    {
     "name": "stderr",
     "output_type": "stream",
     "text": [
      "C:\\Users\\kapoo\\AppData\\Local\\Temp/ipykernel_3848/2133332622.py:3: SettingWithCopyWarning: \n",
      "A value is trying to be set on a copy of a slice from a DataFrame.\n",
      "Try using .loc[row_indexer,col_indexer] = value instead\n",
      "\n",
      "See the caveats in the documentation: https://pandas.pydata.org/pandas-docs/stable/user_guide/indexing.html#returning-a-view-versus-a-copy\n",
      "  valid['Predictions'] = predictions\n"
     ]
    },
    {
     "data": {
      "image/png": "[encoded data removed]",
      "text/plain": [
       "<Figure size 1152x576 with 1 Axes>"
      ]
     },
     "metadata": {
      "needs_background": "light"
     },
     "output_type": "display_data"
    }
   ],
   "source": [
    "train = data[:training_data_len]\n",
    "valid = data[training_data_len:]\n",
    "valid['Predictions'] = predictions\n",
    "plt.figure(figsize=(16,8))\n",
    "plt.title('Model')\n",
    "plt.xlabel('Date',fontsize=18)\n",
    "plt.ylabel('Close Price (USD)',fontsize=18)\n",
    "plt.plot(train['Close'])\n",
    "plt.plot(valid[['Close','Predictions']])\n",
    "plt.legend(['Train', 'Val', 'Predictions'], loc ='lower right')\n",
    "plt.show()"
   ]
  },
  {
   "cell_type": "code",
   "execution_count": 34,
   "id": "d68341a4",
   "metadata": {},
   "outputs": [
    {
     "data": {
      "text/html": [
       "<div>\n",
       "<style scoped>\n",
       "    .dataframe tbody tr th:only-of-type {\n",
       "        vertical-align: middle;\n",
       "    }\n",
       "\n",
       "    .dataframe tbody tr th {\n",
       "        vertical-align: top;\n",
       "    }\n",
       "\n",
       "    .dataframe thead th {\n",
       "        text-align: right;\n",
       "    }\n",
       "</style>\n",
       "<table border=\"1\" class=\"dataframe\">\n",
       "  <thead>\n",
       "    <tr style=\"text-align: right;\">\n",
       "      <th></th>\n",
       "      <th>Close</th>\n",
       "      <th>Predictions</th>\n",
       "    </tr>\n",
       "    <tr>\n",
       "      <th>Date</th>\n",
       "      <th></th>\n",
       "      <th></th>\n",
       "    </tr>\n",
       "  </thead>\n",
       "  <tbody>\n",
       "    <tr>\n",
       "      <th>2020-02-26</th>\n",
       "      <td>126.639999</td>\n",
       "      <td>138.239395</td>\n",
       "    </tr>\n",
       "    <tr>\n",
       "      <th>2020-02-27</th>\n",
       "      <td>121.370003</td>\n",
       "      <td>136.652893</td>\n",
       "    </tr>\n",
       "    <tr>\n",
       "      <th>2020-02-28</th>\n",
       "      <td>116.110001</td>\n",
       "      <td>134.556244</td>\n",
       "    </tr>\n",
       "    <tr>\n",
       "      <th>2020-03-02</th>\n",
       "      <td>121.519997</td>\n",
       "      <td>131.869125</td>\n",
       "    </tr>\n",
       "    <tr>\n",
       "      <th>2020-03-03</th>\n",
       "      <td>116.959999</td>\n",
       "      <td>129.598816</td>\n",
       "    </tr>\n",
       "    <tr>\n",
       "      <th>...</th>\n",
       "      <td>...</td>\n",
       "      <td>...</td>\n",
       "    </tr>\n",
       "    <tr>\n",
       "      <th>2022-03-01</th>\n",
       "      <td>136.449997</td>\n",
       "      <td>151.952789</td>\n",
       "    </tr>\n",
       "    <tr>\n",
       "      <th>2022-03-02</th>\n",
       "      <td>139.279999</td>\n",
       "      <td>149.916122</td>\n",
       "    </tr>\n",
       "    <tr>\n",
       "      <th>2022-03-03</th>\n",
       "      <td>138.289993</td>\n",
       "      <td>148.000900</td>\n",
       "    </tr>\n",
       "    <tr>\n",
       "      <th>2022-03-04</th>\n",
       "      <td>134.399994</td>\n",
       "      <td>146.238281</td>\n",
       "    </tr>\n",
       "    <tr>\n",
       "      <th>2022-03-07</th>\n",
       "      <td>129.210007</td>\n",
       "      <td>144.367844</td>\n",
       "    </tr>\n",
       "  </tbody>\n",
       "</table>\n",
       "<p>512 rows × 2 columns</p>\n",
       "</div>"
      ],
      "text/plain": [
       "                 Close  Predictions\n",
       "Date                               \n",
       "2020-02-26  126.639999   138.239395\n",
       "2020-02-27  121.370003   136.652893\n",
       "2020-02-28  116.110001   134.556244\n",
       "2020-03-02  121.519997   131.869125\n",
       "2020-03-03  116.959999   129.598816\n",
       "...                ...          ...\n",
       "2022-03-01  136.449997   151.952789\n",
       "2022-03-02  139.279999   149.916122\n",
       "2022-03-03  138.289993   148.000900\n",
       "2022-03-04  134.399994   146.238281\n",
       "2022-03-07  129.210007   144.367844\n",
       "\n",
       "[512 rows x 2 columns]"
      ]
     },
     "execution_count": 34,
     "metadata": {},
     "output_type": "execute_result"
    }
   ],
   "source": [
    "valid"
   ]
  },
  {
   "cell_type": "code",
   "execution_count": 35,
   "id": "cda6c6a1",
   "metadata": {},
   "outputs": [
    {
     "name": "stdout",
     "output_type": "stream",
     "text": [
      "[[142.12721]]\n"
     ]
    }
   ],
   "source": [
    "jpm_quote = web.DataReader('JPM', data_source='yahoo',start='2012-01-01', end='2022-03-07')\n",
    "new_df = jpm_quote.filter(['Close'])\n",
    "last_60_days = new_df[-60:].values\n",
    "last_60_days_scaled = scaler.transform(last_60_days)\n",
    "X_test=[]\n",
    "X_test.append(last_60_days_scaled)\n",
    "X_test = np.array(X_test)\n",
    "X_test = np.reshape(X_test, (X_test.shape[0], X_test.shape[1], 1))\n",
    "pred_price = model.predict(X_test)\n",
    "pred_price = scaler.inverse_transform(pred_price)\n",
    "print(pred_price)"
   ]
  },
  {
   "cell_type": "code",
   "execution_count": 36,
   "id": "7dbd7091",
   "metadata": {},
   "outputs": [
    {
     "name": "stdout",
     "output_type": "stream",
     "text": [
      "Date\n",
      "2022-02-28    141.800003\n",
      "2022-03-01    136.449997\n",
      "2022-03-02    139.279999\n",
      "2022-03-03    138.289993\n",
      "2022-03-04    134.399994\n",
      "2022-03-07    129.210007\n",
      "Name: Close, dtype: float64\n"
     ]
    }
   ],
   "source": [
    "jpm_quote2 = web.DataReader('JPM', data_source='yahoo',start='2022-03-01', end='2022-03-07')\n",
    "print(jpm_quote2['Close'])"
   ]
  },
  {
   "cell_type": "code",
   "execution_count": null,
   "id": "36151867",
   "metadata": {},
   "outputs": [],
   "source": []
  }
 ],
 "metadata": {
  "kernelspec": {
   "display_name": "Python 3 (ipykernel)",
   "language": "python",
   "name": "python3"
  },
  "language_info": {
   "codemirror_mode": {
    "name": "ipython",
    "version": 3
   },
   "file_extension": ".py",
   "mimetype": "text/x-python",
   "name": "python",
   "nbconvert_exporter": "python",
   "pygments_lexer": "ipython3",
   "version": "3.9.7"
  }
 },
 "nbformat": 4,
 "nbformat_minor": 5
}
