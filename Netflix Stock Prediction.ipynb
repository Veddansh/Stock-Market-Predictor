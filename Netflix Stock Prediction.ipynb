{
 "cells": [
  {
   "cell_type": "code",
   "execution_count": 1,
   "id": "dbfc94e9",
   "metadata": {},
   "outputs": [],
   "source": [
    "import math\n",
    "import pandas_datareader as web\n",
    "import numpy as np\n",
    "import pandas as pd\n",
    "from sklearn.preprocessing import MinMaxScaler\n",
    "from keras.models import Sequential\n",
    "from keras.layers import Dense, LSTM\n",
    "import matplotlib.pyplot as plt"
   ]
  },
  {
   "cell_type": "code",
   "execution_count": 2,
   "id": "d8b29a4a",
   "metadata": {},
   "outputs": [
    {
     "data": {
      "text/html": [
       "<div>\n",
       "<style scoped>\n",
       "    .dataframe tbody tr th:only-of-type {\n",
       "        vertical-align: middle;\n",
       "    }\n",
       "\n",
       "    .dataframe tbody tr th {\n",
       "        vertical-align: top;\n",
       "    }\n",
       "\n",
       "    .dataframe thead th {\n",
       "        text-align: right;\n",
       "    }\n",
       "</style>\n",
       "<table border=\"1\" class=\"dataframe\">\n",
       "  <thead>\n",
       "    <tr style=\"text-align: right;\">\n",
       "      <th></th>\n",
       "      <th>High</th>\n",
       "      <th>Low</th>\n",
       "      <th>Open</th>\n",
       "      <th>Close</th>\n",
       "      <th>Volume</th>\n",
       "      <th>Adj Close</th>\n",
       "    </tr>\n",
       "    <tr>\n",
       "      <th>Date</th>\n",
       "      <th></th>\n",
       "      <th></th>\n",
       "      <th></th>\n",
       "      <th></th>\n",
       "      <th></th>\n",
       "      <th></th>\n",
       "    </tr>\n",
       "  </thead>\n",
       "  <tbody>\n",
       "    <tr>\n",
       "      <th>2012-01-03</th>\n",
       "      <td>10.388571</td>\n",
       "      <td>10.018571</td>\n",
       "      <td>10.040000</td>\n",
       "      <td>10.320000</td>\n",
       "      <td>29213800.0</td>\n",
       "      <td>10.320000</td>\n",
       "    </tr>\n",
       "    <tr>\n",
       "      <th>2012-01-04</th>\n",
       "      <td>11.567143</td>\n",
       "      <td>10.258571</td>\n",
       "      <td>10.335714</td>\n",
       "      <td>11.492857</td>\n",
       "      <td>100489900.0</td>\n",
       "      <td>11.492857</td>\n",
       "    </tr>\n",
       "    <tr>\n",
       "      <th>2012-01-05</th>\n",
       "      <td>11.694286</td>\n",
       "      <td>11.040000</td>\n",
       "      <td>11.345714</td>\n",
       "      <td>11.328571</td>\n",
       "      <td>86552900.0</td>\n",
       "      <td>11.328571</td>\n",
       "    </tr>\n",
       "    <tr>\n",
       "      <th>2012-01-06</th>\n",
       "      <td>12.471429</td>\n",
       "      <td>11.242857</td>\n",
       "      <td>11.302857</td>\n",
       "      <td>12.327143</td>\n",
       "      <td>125610800.0</td>\n",
       "      <td>12.327143</td>\n",
       "    </tr>\n",
       "    <tr>\n",
       "      <th>2012-01-09</th>\n",
       "      <td>14.235714</td>\n",
       "      <td>12.448571</td>\n",
       "      <td>12.801429</td>\n",
       "      <td>14.025714</td>\n",
       "      <td>214073300.0</td>\n",
       "      <td>14.025714</td>\n",
       "    </tr>\n",
       "    <tr>\n",
       "      <th>...</th>\n",
       "      <td>...</td>\n",
       "      <td>...</td>\n",
       "      <td>...</td>\n",
       "      <td>...</td>\n",
       "      <td>...</td>\n",
       "      <td>...</td>\n",
       "    </tr>\n",
       "    <tr>\n",
       "      <th>2022-03-01</th>\n",
       "      <td>395.000000</td>\n",
       "      <td>383.709991</td>\n",
       "      <td>391.600006</td>\n",
       "      <td>386.239990</td>\n",
       "      <td>3290400.0</td>\n",
       "      <td>386.239990</td>\n",
       "    </tr>\n",
       "    <tr>\n",
       "      <th>2022-03-02</th>\n",
       "      <td>389.220001</td>\n",
       "      <td>375.209991</td>\n",
       "      <td>388.929993</td>\n",
       "      <td>380.029999</td>\n",
       "      <td>5356800.0</td>\n",
       "      <td>380.029999</td>\n",
       "    </tr>\n",
       "    <tr>\n",
       "      <th>2022-03-03</th>\n",
       "      <td>386.119995</td>\n",
       "      <td>364.649994</td>\n",
       "      <td>386.000000</td>\n",
       "      <td>368.070007</td>\n",
       "      <td>6076800.0</td>\n",
       "      <td>368.070007</td>\n",
       "    </tr>\n",
       "    <tr>\n",
       "      <th>2022-03-04</th>\n",
       "      <td>374.820007</td>\n",
       "      <td>357.170013</td>\n",
       "      <td>368.000000</td>\n",
       "      <td>361.730011</td>\n",
       "      <td>5325500.0</td>\n",
       "      <td>361.730011</td>\n",
       "    </tr>\n",
       "    <tr>\n",
       "      <th>2022-03-07</th>\n",
       "      <td>361.994995</td>\n",
       "      <td>350.200012</td>\n",
       "      <td>360.410004</td>\n",
       "      <td>350.260010</td>\n",
       "      <td>5708383.0</td>\n",
       "      <td>350.260010</td>\n",
       "    </tr>\n",
       "  </tbody>\n",
       "</table>\n",
       "<p>2561 rows × 6 columns</p>\n",
       "</div>"
      ],
      "text/plain": [
       "                  High         Low        Open       Close       Volume  \\\n",
       "Date                                                                      \n",
       "2012-01-03   10.388571   10.018571   10.040000   10.320000   29213800.0   \n",
       "2012-01-04   11.567143   10.258571   10.335714   11.492857  100489900.0   \n",
       "2012-01-05   11.694286   11.040000   11.345714   11.328571   86552900.0   \n",
       "2012-01-06   12.471429   11.242857   11.302857   12.327143  125610800.0   \n",
       "2012-01-09   14.235714   12.448571   12.801429   14.025714  214073300.0   \n",
       "...                ...         ...         ...         ...          ...   \n",
       "2022-03-01  395.000000  383.709991  391.600006  386.239990    3290400.0   \n",
       "2022-03-02  389.220001  375.209991  388.929993  380.029999    5356800.0   \n",
       "2022-03-03  386.119995  364.649994  386.000000  368.070007    6076800.0   \n",
       "2022-03-04  374.820007  357.170013  368.000000  361.730011    5325500.0   \n",
       "2022-03-07  361.994995  350.200012  360.410004  350.260010    5708383.0   \n",
       "\n",
       "             Adj Close  \n",
       "Date                    \n",
       "2012-01-03   10.320000  \n",
       "2012-01-04   11.492857  \n",
       "2012-01-05   11.328571  \n",
       "2012-01-06   12.327143  \n",
       "2012-01-09   14.025714  \n",
       "...                ...  \n",
       "2022-03-01  386.239990  \n",
       "2022-03-02  380.029999  \n",
       "2022-03-03  368.070007  \n",
       "2022-03-04  361.730011  \n",
       "2022-03-07  350.260010  \n",
       "\n",
       "[2561 rows x 6 columns]"
      ]
     },
     "execution_count": 2,
     "metadata": {},
     "output_type": "execute_result"
    }
   ],
   "source": [
    "df = web.DataReader('NFLX', data_source='yahoo',start='2012-01-01', end='2022-03-07')\n",
    "df"
   ]
  },
  {
   "cell_type": "code",
   "execution_count": 19,
   "id": "33b789a3",
   "metadata": {},
   "outputs": [
    {
     "data": {
      "text/plain": [
       "2075"
      ]
     },
     "execution_count": 19,
     "metadata": {},
     "output_type": "execute_result"
    }
   ],
   "source": [
    "data = df.filter(['Close'])\n",
    "dataset=data.values\n",
    "training_data_len = math.ceil(len(dataset)*.81)\n",
    "training_data_len"
   ]
  },
  {
   "cell_type": "code",
   "execution_count": 20,
   "id": "78b69fe6",
   "metadata": {},
   "outputs": [
    {
     "data": {
      "image/png": "[encoded data removed]",
      "text/plain": [
       "<Figure size 1152x576 with 1 Axes>"
      ]
     },
     "metadata": {
      "needs_background": "light"
     },
     "output_type": "display_data"
    }
   ],
   "source": [
    "plt.figure(figsize=(16,8))\n",
    "plt.title('Close Price History')\n",
    "plt.plot(df['Close'])\n",
    "plt.xlabel('Date',fontsize=18)\n",
    "plt.ylabel('Close Price (USD)',fontsize=18)\n",
    "plt.show()"
   ]
  },
  {
   "cell_type": "code",
   "execution_count": 21,
   "id": "da14ef3f",
   "metadata": {},
   "outputs": [
    {
     "data": {
      "text/plain": [
       "array([[0.00385127],\n",
       "       [0.00556596],\n",
       "       [0.00532578],\n",
       "       ...,\n",
       "       [0.52687432],\n",
       "       [0.51760538],\n",
       "       [0.50083647]])"
      ]
     },
     "execution_count": 21,
     "metadata": {},
     "output_type": "execute_result"
    }
   ],
   "source": [
    "scaler = MinMaxScaler(feature_range=(0,1))\n",
    "scaled_data = scaler.fit_transform(dataset)\n",
    "scaled_data"
   ]
  },
  {
   "cell_type": "code",
   "execution_count": 22,
   "id": "ac403d23",
   "metadata": {},
   "outputs": [
    {
     "name": "stdout",
     "output_type": "stream",
     "text": [
      "[array([0.00385127, 0.00556596, 0.00532578, 0.00678567, 0.00926895,\n",
      "       0.00877814, 0.00800956, 0.00800956, 0.0084753 , 0.00854631,\n",
      "       0.00934414, 0.0103717 , 0.00969919, 0.00838758, 0.00811816,\n",
      "       0.00861315, 0.01299282, 0.0146177 , 0.01496022, 0.01386792,\n",
      "       0.01444644, 0.01466156, 0.01516908, 0.01575805, 0.01547192,\n",
      "       0.01466156, 0.014837  , 0.01464694, 0.01347109, 0.01446733,\n",
      "       0.01425639, 0.01422506, 0.01421253, 0.01328313, 0.01223885,\n",
      "       0.01236208, 0.01208639, 0.01161438, 0.012431  , 0.01189007,\n",
      "       0.01231195, 0.01280276, 0.01190678, 0.01113819, 0.01073302,\n",
      "       0.01133452, 0.0115559 , 0.01094396, 0.01097529, 0.01074555,\n",
      "       0.01177311, 0.01172925, 0.01264194, 0.01278605, 0.01384703,\n",
      "       0.0135609 , 0.01386583, 0.01424177, 0.01396608, 0.01357761])]\n",
      "[0.012792318847363655]\n",
      "\n"
     ]
    }
   ],
   "source": [
    "train_data = scaled_data[0:training_data_len , :]\n",
    "x_train = []\n",
    "y_train = []\n",
    "\n",
    "for i in range(60, len(train_data)):\n",
    "    x_train.append(train_data[i-60:i, 0])\n",
    "    y_train.append(train_data[i, 0])\n",
    "    if i<=60:\n",
    "        print(x_train)\n",
    "        print(y_train)\n",
    "        print()"
   ]
  },
  {
   "cell_type": "code",
   "execution_count": 23,
   "id": "964c5045",
   "metadata": {},
   "outputs": [],
   "source": [
    "x_train,y_train = np.array(x_train), np.array(y_train)"
   ]
  },
  {
   "cell_type": "code",
   "execution_count": 24,
   "id": "79d90dc8",
   "metadata": {},
   "outputs": [
    {
     "data": {
      "text/plain": [
       "(2015, 60, 1)"
      ]
     },
     "execution_count": 24,
     "metadata": {},
     "output_type": "execute_result"
    }
   ],
   "source": [
    "x_train = np.reshape(x_train,(x_train.shape[0],x_train.shape[1], 1))\n",
    "x_train.shape"
   ]
  },
  {
   "cell_type": "code",
   "execution_count": 25,
   "id": "d70eaea8",
   "metadata": {},
   "outputs": [],
   "source": [
    "model = Sequential()\n",
    "model.add(LSTM(50, return_sequences=True, input_shape = (x_train.shape[1],1)))\n",
    "model.add(LSTM(50, return_sequences=False))\n",
    "model.add(Dense(25))\n",
    "model.add(Dense(1))"
   ]
  },
  {
   "cell_type": "code",
   "execution_count": 26,
   "id": "81acdb13",
   "metadata": {},
   "outputs": [],
   "source": [
    "model.compile(optimizer='adam',loss='mean_squared_error')"
   ]
  },
  {
   "cell_type": "code",
   "execution_count": 27,
   "id": "e1487d1b",
   "metadata": {},
   "outputs": [
    {
     "name": "stdout",
     "output_type": "stream",
     "text": [
      "2015/2015 [==============================] - 36s 17ms/step - loss: 9.3957e-04\n"
     ]
    },
    {
     "data": {
      "text/plain": [
       "<keras.callbacks.History at 0x27064578f10>"
      ]
     },
     "execution_count": 27,
     "metadata": {},
     "output_type": "execute_result"
    }
   ],
   "source": [
    "model.fit(x_train, y_train, batch_size=1, epochs=1)"
   ]
  },
  {
   "cell_type": "code",
   "execution_count": 28,
   "id": "fca8191c",
   "metadata": {},
   "outputs": [],
   "source": [
    "test_data = scaled_data[training_data_len-60: , :]\n",
    "x_test=[]\n",
    "y_test=dataset[training_data_len:, :]\n",
    "for i in range(60, len(test_data)):\n",
    "    x_test.append(test_data[i-60:i, 0])"
   ]
  },
  {
   "cell_type": "code",
   "execution_count": 29,
   "id": "3f12d6d9",
   "metadata": {},
   "outputs": [],
   "source": [
    "x_test = np.array(x_test)"
   ]
  },
  {
   "cell_type": "code",
   "execution_count": 30,
   "id": "31779c71",
   "metadata": {},
   "outputs": [],
   "source": [
    "x_test = np.reshape(x_test, (x_test.shape[0], x_test.shape[1], 1))"
   ]
  },
  {
   "cell_type": "code",
   "execution_count": 31,
   "id": "55a44cc5",
   "metadata": {},
   "outputs": [],
   "source": [
    "predictions = model.predict(x_test)\n",
    "predictions = scaler.inverse_transform(predictions)"
   ]
  },
  {
   "cell_type": "code",
   "execution_count": 32,
   "id": "4a68967f",
   "metadata": {},
   "outputs": [
    {
     "data": {
      "text/plain": [
       "6.314408416120113"
      ]
     },
     "execution_count": 32,
     "metadata": {},
     "output_type": "execute_result"
    }
   ],
   "source": [
    "rmse = np.sqrt(np.mean(predictions - y_test)**2)\n",
    "rmse"
   ]
  },
  {
   "cell_type": "code",
   "execution_count": 33,
   "id": "d0f576c8",
   "metadata": {},
   "outputs": [
    {
     "name": "stderr",
     "output_type": "stream",
     "text": [
      "C:\\Users\\kapoo\\AppData\\Local\\Temp/ipykernel_3504/2133332622.py:3: SettingWithCopyWarning: \n",
      "A value is trying to be set on a copy of a slice from a DataFrame.\n",
      "Try using .loc[row_indexer,col_indexer] = value instead\n",
      "\n",
      "See the caveats in the documentation: https://pandas.pydata.org/pandas-docs/stable/user_guide/indexing.html#returning-a-view-versus-a-copy\n",
      "  valid['Predictions'] = predictions\n"
     ]
    },
    {
     "data": {
      "image/png": "[encoded data removed]",
      "text/plain": [
       "<Figure size 1152x576 with 1 Axes>"
      ]
     },
     "metadata": {
      "needs_background": "light"
     },
     "output_type": "display_data"
    }
   ],
   "source": [
    "train = data[:training_data_len]\n",
    "valid = data[training_data_len:]\n",
    "valid['Predictions'] = predictions\n",
    "plt.figure(figsize=(16,8))\n",
    "plt.title('Model')\n",
    "plt.xlabel('Date',fontsize=18)\n",
    "plt.ylabel('Close Price (USD)',fontsize=18)\n",
    "plt.plot(train['Close'])\n",
    "plt.plot(valid[['Close','Predictions']])\n",
    "plt.legend(['Train', 'Val', 'Predictions'], loc ='lower right')\n",
    "plt.show()"
   ]
  },
  {
   "cell_type": "code",
   "execution_count": 34,
   "id": "48703f63",
   "metadata": {},
   "outputs": [
    {
     "data": {
      "text/html": [
       "<div>\n",
       "<style scoped>\n",
       "    .dataframe tbody tr th:only-of-type {\n",
       "        vertical-align: middle;\n",
       "    }\n",
       "\n",
       "    .dataframe tbody tr th {\n",
       "        vertical-align: top;\n",
       "    }\n",
       "\n",
       "    .dataframe thead th {\n",
       "        text-align: right;\n",
       "    }\n",
       "</style>\n",
       "<table border=\"1\" class=\"dataframe\">\n",
       "  <thead>\n",
       "    <tr style=\"text-align: right;\">\n",
       "      <th></th>\n",
       "      <th>Close</th>\n",
       "      <th>Predictions</th>\n",
       "    </tr>\n",
       "    <tr>\n",
       "      <th>Date</th>\n",
       "      <th></th>\n",
       "      <th></th>\n",
       "    </tr>\n",
       "  </thead>\n",
       "  <tbody>\n",
       "    <tr>\n",
       "      <th>2020-04-02</th>\n",
       "      <td>370.079987</td>\n",
       "      <td>373.253326</td>\n",
       "    </tr>\n",
       "    <tr>\n",
       "      <th>2020-04-03</th>\n",
       "      <td>361.760010</td>\n",
       "      <td>376.262421</td>\n",
       "    </tr>\n",
       "    <tr>\n",
       "      <th>2020-04-06</th>\n",
       "      <td>379.959991</td>\n",
       "      <td>377.626495</td>\n",
       "    </tr>\n",
       "    <tr>\n",
       "      <th>2020-04-07</th>\n",
       "      <td>372.279999</td>\n",
       "      <td>380.068176</td>\n",
       "    </tr>\n",
       "    <tr>\n",
       "      <th>2020-04-08</th>\n",
       "      <td>371.119995</td>\n",
       "      <td>381.812775</td>\n",
       "    </tr>\n",
       "    <tr>\n",
       "      <th>...</th>\n",
       "      <td>...</td>\n",
       "      <td>...</td>\n",
       "    </tr>\n",
       "    <tr>\n",
       "      <th>2022-03-01</th>\n",
       "      <td>386.239990</td>\n",
       "      <td>399.222229</td>\n",
       "    </tr>\n",
       "    <tr>\n",
       "      <th>2022-03-02</th>\n",
       "      <td>380.029999</td>\n",
       "      <td>399.334198</td>\n",
       "    </tr>\n",
       "    <tr>\n",
       "      <th>2022-03-03</th>\n",
       "      <td>368.070007</td>\n",
       "      <td>398.642487</td>\n",
       "    </tr>\n",
       "    <tr>\n",
       "      <th>2022-03-04</th>\n",
       "      <td>361.730011</td>\n",
       "      <td>396.272247</td>\n",
       "    </tr>\n",
       "    <tr>\n",
       "      <th>2022-03-07</th>\n",
       "      <td>350.260010</td>\n",
       "      <td>392.617737</td>\n",
       "    </tr>\n",
       "  </tbody>\n",
       "</table>\n",
       "<p>486 rows × 2 columns</p>\n",
       "</div>"
      ],
      "text/plain": [
       "                 Close  Predictions\n",
       "Date                               \n",
       "2020-04-02  370.079987   373.253326\n",
       "2020-04-03  361.760010   376.262421\n",
       "2020-04-06  379.959991   377.626495\n",
       "2020-04-07  372.279999   380.068176\n",
       "2020-04-08  371.119995   381.812775\n",
       "...                ...          ...\n",
       "2022-03-01  386.239990   399.222229\n",
       "2022-03-02  380.029999   399.334198\n",
       "2022-03-03  368.070007   398.642487\n",
       "2022-03-04  361.730011   396.272247\n",
       "2022-03-07  350.260010   392.617737\n",
       "\n",
       "[486 rows x 2 columns]"
      ]
     },
     "execution_count": 34,
     "metadata": {},
     "output_type": "execute_result"
    }
   ],
   "source": [
    "valid"
   ]
  },
  {
   "cell_type": "code",
   "execution_count": 35,
   "id": "007bdcd9",
   "metadata": {},
   "outputs": [
    {
     "name": "stdout",
     "output_type": "stream",
     "text": [
      "[[387.40097]]\n"
     ]
    }
   ],
   "source": [
    "nflx_quote = web.DataReader('NFLX', data_source='yahoo',start='2012-01-01', end='2022-03-07')\n",
    "new_df = nflx_quote.filter(['Close'])\n",
    "last_60_days = new_df[-60:].values\n",
    "last_60_days_scaled = scaler.transform(last_60_days)\n",
    "X_test=[]\n",
    "X_test.append(last_60_days_scaled)\n",
    "X_test = np.array(X_test)\n",
    "X_test = np.reshape(X_test, (X_test.shape[0], X_test.shape[1], 1))\n",
    "pred_price = model.predict(X_test)\n",
    "pred_price = scaler.inverse_transform(pred_price)\n",
    "print(pred_price)"
   ]
  },
  {
   "cell_type": "code",
   "execution_count": 36,
   "id": "616e7743",
   "metadata": {},
   "outputs": [
    {
     "name": "stdout",
     "output_type": "stream",
     "text": [
      "Date\n",
      "2022-02-28    394.519989\n",
      "2022-03-01    386.239990\n",
      "2022-03-02    380.029999\n",
      "2022-03-03    368.070007\n",
      "2022-03-04    361.730011\n",
      "2022-03-07    350.260010\n",
      "Name: Close, dtype: float64\n"
     ]
    }
   ],
   "source": [
    "nflx_quote2 = web.DataReader('NFLX', data_source='yahoo',start='2022-03-01', end='2022-03-07')\n",
    "print(nflx_quote2['Close'])"
   ]
  },
  {
   "cell_type": "code",
   "execution_count": null,
   "id": "ba7b3f10",
   "metadata": {},
   "outputs": [],
   "source": []
  }
 ],
 "metadata": {
  "kernelspec": {
   "display_name": "Python 3 (ipykernel)",
   "language": "python",
   "name": "python3"
  },
  "language_info": {
   "codemirror_mode": {
    "name": "ipython",
    "version": 3
   },
   "file_extension": ".py",
   "mimetype": "text/x-python",
   "name": "python",
   "nbconvert_exporter": "python",
   "pygments_lexer": "ipython3",
   "version": "3.9.7"
  }
 },
 "nbformat": 4,
 "nbformat_minor": 5
}
