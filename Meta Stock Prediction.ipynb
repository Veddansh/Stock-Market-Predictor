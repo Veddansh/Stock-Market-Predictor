{
 "cells": [
  {
   "cell_type": "code",
   "execution_count": 1,
   "id": "aef085f1",
   "metadata": {},
   "outputs": [],
   "source": [
    "import math\n",
    "import pandas_datareader as web\n",
    "import numpy as np\n",
    "import pandas as pd\n",
    "from sklearn.preprocessing import MinMaxScaler\n",
    "from keras.models import Sequential\n",
    "from keras.layers import Dense, LSTM\n",
    "import matplotlib.pyplot as plt"
   ]
  },
  {
   "cell_type": "code",
   "execution_count": 2,
   "id": "89328a1f",
   "metadata": {},
   "outputs": [
    {
     "data": {
      "text/html": [
       "<div>\n",
       "<style scoped>\n",
       "    .dataframe tbody tr th:only-of-type {\n",
       "        vertical-align: middle;\n",
       "    }\n",
       "\n",
       "    .dataframe tbody tr th {\n",
       "        vertical-align: top;\n",
       "    }\n",
       "\n",
       "    .dataframe thead th {\n",
       "        text-align: right;\n",
       "    }\n",
       "</style>\n",
       "<table border=\"1\" class=\"dataframe\">\n",
       "  <thead>\n",
       "    <tr style=\"text-align: right;\">\n",
       "      <th></th>\n",
       "      <th>High</th>\n",
       "      <th>Low</th>\n",
       "      <th>Open</th>\n",
       "      <th>Close</th>\n",
       "      <th>Volume</th>\n",
       "      <th>Adj Close</th>\n",
       "    </tr>\n",
       "    <tr>\n",
       "      <th>Date</th>\n",
       "      <th></th>\n",
       "      <th></th>\n",
       "      <th></th>\n",
       "      <th></th>\n",
       "      <th></th>\n",
       "      <th></th>\n",
       "    </tr>\n",
       "  </thead>\n",
       "  <tbody>\n",
       "    <tr>\n",
       "      <th>2012-05-18</th>\n",
       "      <td>45.000000</td>\n",
       "      <td>38.000000</td>\n",
       "      <td>42.049999</td>\n",
       "      <td>38.230000</td>\n",
       "      <td>573576400</td>\n",
       "      <td>38.230000</td>\n",
       "    </tr>\n",
       "    <tr>\n",
       "      <th>2012-05-21</th>\n",
       "      <td>36.660000</td>\n",
       "      <td>33.000000</td>\n",
       "      <td>36.529999</td>\n",
       "      <td>34.029999</td>\n",
       "      <td>168192700</td>\n",
       "      <td>34.029999</td>\n",
       "    </tr>\n",
       "    <tr>\n",
       "      <th>2012-05-22</th>\n",
       "      <td>33.590000</td>\n",
       "      <td>30.940001</td>\n",
       "      <td>32.610001</td>\n",
       "      <td>31.000000</td>\n",
       "      <td>101786600</td>\n",
       "      <td>31.000000</td>\n",
       "    </tr>\n",
       "    <tr>\n",
       "      <th>2012-05-23</th>\n",
       "      <td>32.500000</td>\n",
       "      <td>31.360001</td>\n",
       "      <td>31.370001</td>\n",
       "      <td>32.000000</td>\n",
       "      <td>73600000</td>\n",
       "      <td>32.000000</td>\n",
       "    </tr>\n",
       "    <tr>\n",
       "      <th>2012-05-24</th>\n",
       "      <td>33.209999</td>\n",
       "      <td>31.770000</td>\n",
       "      <td>32.950001</td>\n",
       "      <td>33.029999</td>\n",
       "      <td>50237200</td>\n",
       "      <td>33.029999</td>\n",
       "    </tr>\n",
       "    <tr>\n",
       "      <th>...</th>\n",
       "      <td>...</td>\n",
       "      <td>...</td>\n",
       "      <td>...</td>\n",
       "      <td>...</td>\n",
       "      <td>...</td>\n",
       "      <td>...</td>\n",
       "    </tr>\n",
       "    <tr>\n",
       "      <th>2022-03-01</th>\n",
       "      <td>211.750000</td>\n",
       "      <td>202.220001</td>\n",
       "      <td>209.869995</td>\n",
       "      <td>203.490005</td>\n",
       "      <td>27094900</td>\n",
       "      <td>203.490005</td>\n",
       "    </tr>\n",
       "    <tr>\n",
       "      <th>2022-03-02</th>\n",
       "      <td>209.149994</td>\n",
       "      <td>202.020004</td>\n",
       "      <td>204.779999</td>\n",
       "      <td>208.110001</td>\n",
       "      <td>29452100</td>\n",
       "      <td>208.110001</td>\n",
       "    </tr>\n",
       "    <tr>\n",
       "      <th>2022-03-03</th>\n",
       "      <td>209.080002</td>\n",
       "      <td>201.419998</td>\n",
       "      <td>209.020004</td>\n",
       "      <td>202.970001</td>\n",
       "      <td>27263500</td>\n",
       "      <td>202.970001</td>\n",
       "    </tr>\n",
       "    <tr>\n",
       "      <th>2022-03-04</th>\n",
       "      <td>205.889999</td>\n",
       "      <td>198.789993</td>\n",
       "      <td>202.369995</td>\n",
       "      <td>200.059998</td>\n",
       "      <td>32130900</td>\n",
       "      <td>200.059998</td>\n",
       "    </tr>\n",
       "    <tr>\n",
       "      <th>2022-03-07</th>\n",
       "      <td>200.789993</td>\n",
       "      <td>187.279999</td>\n",
       "      <td>200.789993</td>\n",
       "      <td>187.470001</td>\n",
       "      <td>38560609</td>\n",
       "      <td>187.470001</td>\n",
       "    </tr>\n",
       "  </tbody>\n",
       "</table>\n",
       "<p>2466 rows × 6 columns</p>\n",
       "</div>"
      ],
      "text/plain": [
       "                  High         Low        Open       Close     Volume  \\\n",
       "Date                                                                    \n",
       "2012-05-18   45.000000   38.000000   42.049999   38.230000  573576400   \n",
       "2012-05-21   36.660000   33.000000   36.529999   34.029999  168192700   \n",
       "2012-05-22   33.590000   30.940001   32.610001   31.000000  101786600   \n",
       "2012-05-23   32.500000   31.360001   31.370001   32.000000   73600000   \n",
       "2012-05-24   33.209999   31.770000   32.950001   33.029999   50237200   \n",
       "...                ...         ...         ...         ...        ...   \n",
       "2022-03-01  211.750000  202.220001  209.869995  203.490005   27094900   \n",
       "2022-03-02  209.149994  202.020004  204.779999  208.110001   29452100   \n",
       "2022-03-03  209.080002  201.419998  209.020004  202.970001   27263500   \n",
       "2022-03-04  205.889999  198.789993  202.369995  200.059998   32130900   \n",
       "2022-03-07  200.789993  187.279999  200.789993  187.470001   38560609   \n",
       "\n",
       "             Adj Close  \n",
       "Date                    \n",
       "2012-05-18   38.230000  \n",
       "2012-05-21   34.029999  \n",
       "2012-05-22   31.000000  \n",
       "2012-05-23   32.000000  \n",
       "2012-05-24   33.029999  \n",
       "...                ...  \n",
       "2022-03-01  203.490005  \n",
       "2022-03-02  208.110001  \n",
       "2022-03-03  202.970001  \n",
       "2022-03-04  200.059998  \n",
       "2022-03-07  187.470001  \n",
       "\n",
       "[2466 rows x 6 columns]"
      ]
     },
     "execution_count": 2,
     "metadata": {},
     "output_type": "execute_result"
    }
   ],
   "source": [
    "df = web.DataReader('FB', data_source='yahoo',start='2012-01-01', end='2022-03-07')\n",
    "df"
   ]
  },
  {
   "cell_type": "code",
   "execution_count": 3,
   "id": "42e9d06c",
   "metadata": {},
   "outputs": [
    {
     "data": {
      "text/plain": [
       "1998"
      ]
     },
     "execution_count": 3,
     "metadata": {},
     "output_type": "execute_result"
    }
   ],
   "source": [
    "data = df.filter(['Close'])\n",
    "dataset=data.values\n",
    "training_data_len = math.ceil(len(dataset)*.81)\n",
    "training_data_len"
   ]
  },
  {
   "cell_type": "code",
   "execution_count": 4,
   "id": "b6506f29",
   "metadata": {},
   "outputs": [
    {
     "data": {
      "image/png": "[encoded data removed]",
      "text/plain": [
       "<Figure size 1152x576 with 1 Axes>"
      ]
     },
     "metadata": {
      "needs_background": "light"
     },
     "output_type": "display_data"
    }
   ],
   "source": [
    "plt.figure(figsize=(16,8))\n",
    "plt.title('Close Price History')\n",
    "plt.plot(df['Close'])\n",
    "plt.xlabel('Date',fontsize=18)\n",
    "plt.ylabel('Close Price (USD)',fontsize=18)\n",
    "plt.show()"
   ]
  },
  {
   "cell_type": "code",
   "execution_count": 5,
   "id": "72d8b48b",
   "metadata": {},
   "outputs": [
    {
     "data": {
      "text/plain": [
       "array([[0.05624914],\n",
       "       [0.04472493],\n",
       "       [0.03641103],\n",
       "       ...,\n",
       "       [0.50827275],\n",
       "       [0.50028811],\n",
       "       [0.46574291]])"
      ]
     },
     "execution_count": 5,
     "metadata": {},
     "output_type": "execute_result"
    }
   ],
   "source": [
    "scaler = MinMaxScaler(feature_range=(0,1))\n",
    "scaled_data = scaler.fit_transform(dataset)\n",
    "scaled_data"
   ]
  },
  {
   "cell_type": "code",
   "execution_count": 6,
   "id": "018f25ff",
   "metadata": {},
   "outputs": [
    {
     "name": "stdout",
     "output_type": "stream",
     "text": [
      "[array([0.05624914, 0.04472493, 0.03641103, 0.03915489, 0.04198107,\n",
      "       0.03890795, 0.03048429, 0.02870079, 0.03256963, 0.02741117,\n",
      "       0.0251612 , 0.02233503, 0.02491425, 0.02354232, 0.02570998,\n",
      "       0.02546303, 0.02653313, 0.02617643, 0.02897517, 0.03369461,\n",
      "       0.03753601, 0.03890795, 0.03805735, 0.03871588, 0.04203594,\n",
      "       0.03931953, 0.04217314, 0.03978598, 0.03739882, 0.03668542,\n",
      "       0.03577995, 0.03695981, 0.03770064, 0.03841405, 0.03962134,\n",
      "       0.03770064, 0.03632871, 0.0358897 , 0.03564275, 0.02886542,\n",
      "       0.0284264 , 0.03122514, 0.03092331, 0.03026479, 0.03023735,\n",
      "       0.02941419, 0.03185622, 0.02502401, 0.01640829, 0.01487173,\n",
      "       0.01092056, 0.00864316, 0.00633832, 0.00921937, 0.01149678,\n",
      "       0.00820414, 0.00820414, 0.00899986, 0.01119495, 0.01061874])]\n",
      "[0.007271229711778966]\n",
      "\n"
     ]
    }
   ],
   "source": [
    "train_data = scaled_data[0:training_data_len , :]\n",
    "x_train = []\n",
    "y_train = []\n",
    "\n",
    "for i in range(60, len(train_data)):\n",
    "    x_train.append(train_data[i-60:i, 0])\n",
    "    y_train.append(train_data[i, 0])\n",
    "    if i<=60:\n",
    "        print(x_train)\n",
    "        print(y_train)\n",
    "        print()"
   ]
  },
  {
   "cell_type": "code",
   "execution_count": 7,
   "id": "bd258544",
   "metadata": {},
   "outputs": [],
   "source": [
    "x_train,y_train = np.array(x_train), np.array(y_train)"
   ]
  },
  {
   "cell_type": "code",
   "execution_count": 8,
   "id": "7167c784",
   "metadata": {},
   "outputs": [
    {
     "data": {
      "text/plain": [
       "(1938, 60, 1)"
      ]
     },
     "execution_count": 8,
     "metadata": {},
     "output_type": "execute_result"
    }
   ],
   "source": [
    "x_train = np.reshape(x_train,(x_train.shape[0],x_train.shape[1], 1))\n",
    "x_train.shape"
   ]
  },
  {
   "cell_type": "code",
   "execution_count": 9,
   "id": "bcdc5d15",
   "metadata": {},
   "outputs": [],
   "source": [
    "model = Sequential()\n",
    "model.add(LSTM(50, return_sequences=True, input_shape = (x_train.shape[1],1)))\n",
    "model.add(LSTM(50, return_sequences=False))\n",
    "model.add(Dense(25))\n",
    "model.add(Dense(1))"
   ]
  },
  {
   "cell_type": "code",
   "execution_count": 10,
   "id": "552dc568",
   "metadata": {},
   "outputs": [],
   "source": [
    "model.compile(optimizer='adam',loss='mean_squared_error')"
   ]
  },
  {
   "cell_type": "code",
   "execution_count": 11,
   "id": "01e24d1e",
   "metadata": {},
   "outputs": [
    {
     "name": "stdout",
     "output_type": "stream",
     "text": [
      "1938/1938 [==============================] - 37s 18ms/step - loss: 7.8941e-04\n"
     ]
    },
    {
     "data": {
      "text/plain": [
       "<keras.callbacks.History at 0x2d826201460>"
      ]
     },
     "execution_count": 11,
     "metadata": {},
     "output_type": "execute_result"
    }
   ],
   "source": [
    "model.fit(x_train, y_train, batch_size=1, epochs=1)"
   ]
  },
  {
   "cell_type": "code",
   "execution_count": 12,
   "id": "a7c7f2b3",
   "metadata": {},
   "outputs": [],
   "source": [
    "test_data = scaled_data[training_data_len-60: , :]\n",
    "x_test=[]\n",
    "y_test=dataset[training_data_len:, :]\n",
    "for i in range(60, len(test_data)):\n",
    "    x_test.append(test_data[i-60:i, 0])"
   ]
  },
  {
   "cell_type": "code",
   "execution_count": 13,
   "id": "8cf1a994",
   "metadata": {},
   "outputs": [],
   "source": [
    "x_test = np.array(x_test)"
   ]
  },
  {
   "cell_type": "code",
   "execution_count": 14,
   "id": "a670d3e0",
   "metadata": {},
   "outputs": [],
   "source": [
    "x_test = np.reshape(x_test, (x_test.shape[0], x_test.shape[1], 1))"
   ]
  },
  {
   "cell_type": "code",
   "execution_count": 15,
   "id": "30eed3b2",
   "metadata": {},
   "outputs": [],
   "source": [
    "predictions = model.predict(x_test)\n",
    "predictions = scaler.inverse_transform(predictions)"
   ]
  },
  {
   "cell_type": "code",
   "execution_count": 16,
   "id": "82e92ffa",
   "metadata": {},
   "outputs": [
    {
     "data": {
      "text/plain": [
       "0.3524236108502771"
      ]
     },
     "execution_count": 16,
     "metadata": {},
     "output_type": "execute_result"
    }
   ],
   "source": [
    "rmse = np.sqrt(np.mean(predictions - y_test)**2)\n",
    "rmse"
   ]
  },
  {
   "cell_type": "code",
   "execution_count": 17,
   "id": "98ba5c90",
   "metadata": {},
   "outputs": [
    {
     "name": "stderr",
     "output_type": "stream",
     "text": [
      "C:\\Users\\kapoo\\AppData\\Local\\Temp/ipykernel_16176/2133332622.py:3: SettingWithCopyWarning: \n",
      "A value is trying to be set on a copy of a slice from a DataFrame.\n",
      "Try using .loc[row_indexer,col_indexer] = value instead\n",
      "\n",
      "See the caveats in the documentation: https://pandas.pydata.org/pandas-docs/stable/user_guide/indexing.html#returning-a-view-versus-a-copy\n",
      "  valid['Predictions'] = predictions\n"
     ]
    },
    {
     "data": {
      "image/png": "[encoded data removed]",
      "text/plain": [
       "<Figure size 1152x576 with 1 Axes>"
      ]
     },
     "metadata": {
      "needs_background": "light"
     },
     "output_type": "display_data"
    }
   ],
   "source": [
    "train = data[:training_data_len]\n",
    "valid = data[training_data_len:]\n",
    "valid['Predictions'] = predictions\n",
    "plt.figure(figsize=(16,8))\n",
    "plt.title('Model')\n",
    "plt.xlabel('Date',fontsize=18)\n",
    "plt.ylabel('Close Price (USD)',fontsize=18)\n",
    "plt.plot(train['Close'])\n",
    "plt.plot(valid[['Close','Predictions']])\n",
    "plt.legend(['Train', 'Val', 'Predictions'], loc ='lower right')\n",
    "plt.show()"
   ]
  },
  {
   "cell_type": "code",
   "execution_count": 18,
   "id": "6314b8f2",
   "metadata": {},
   "outputs": [
    {
     "data": {
      "text/html": [
       "<div>\n",
       "<style scoped>\n",
       "    .dataframe tbody tr th:only-of-type {\n",
       "        vertical-align: middle;\n",
       "    }\n",
       "\n",
       "    .dataframe tbody tr th {\n",
       "        vertical-align: top;\n",
       "    }\n",
       "\n",
       "    .dataframe thead th {\n",
       "        text-align: right;\n",
       "    }\n",
       "</style>\n",
       "<table border=\"1\" class=\"dataframe\">\n",
       "  <thead>\n",
       "    <tr style=\"text-align: right;\">\n",
       "      <th></th>\n",
       "      <th>Close</th>\n",
       "      <th>Predictions</th>\n",
       "    </tr>\n",
       "    <tr>\n",
       "      <th>Date</th>\n",
       "      <th></th>\n",
       "      <th></th>\n",
       "    </tr>\n",
       "  </thead>\n",
       "  <tbody>\n",
       "    <tr>\n",
       "      <th>2020-04-29</th>\n",
       "      <td>194.190002</td>\n",
       "      <td>186.228683</td>\n",
       "    </tr>\n",
       "    <tr>\n",
       "      <th>2020-04-30</th>\n",
       "      <td>204.710007</td>\n",
       "      <td>188.039474</td>\n",
       "    </tr>\n",
       "    <tr>\n",
       "      <th>2020-05-01</th>\n",
       "      <td>202.270004</td>\n",
       "      <td>191.079285</td>\n",
       "    </tr>\n",
       "    <tr>\n",
       "      <th>2020-05-04</th>\n",
       "      <td>205.259995</td>\n",
       "      <td>194.187027</td>\n",
       "    </tr>\n",
       "    <tr>\n",
       "      <th>2020-05-05</th>\n",
       "      <td>207.070007</td>\n",
       "      <td>197.356628</td>\n",
       "    </tr>\n",
       "    <tr>\n",
       "      <th>...</th>\n",
       "      <td>...</td>\n",
       "      <td>...</td>\n",
       "    </tr>\n",
       "    <tr>\n",
       "      <th>2022-03-01</th>\n",
       "      <td>203.490005</td>\n",
       "      <td>212.507294</td>\n",
       "    </tr>\n",
       "    <tr>\n",
       "      <th>2022-03-02</th>\n",
       "      <td>208.110001</td>\n",
       "      <td>211.934204</td>\n",
       "    </tr>\n",
       "    <tr>\n",
       "      <th>2022-03-03</th>\n",
       "      <td>202.970001</td>\n",
       "      <td>211.753128</td>\n",
       "    </tr>\n",
       "    <tr>\n",
       "      <th>2022-03-04</th>\n",
       "      <td>200.059998</td>\n",
       "      <td>211.219437</td>\n",
       "    </tr>\n",
       "    <tr>\n",
       "      <th>2022-03-07</th>\n",
       "      <td>187.470001</td>\n",
       "      <td>210.273270</td>\n",
       "    </tr>\n",
       "  </tbody>\n",
       "</table>\n",
       "<p>468 rows × 2 columns</p>\n",
       "</div>"
      ],
      "text/plain": [
       "                 Close  Predictions\n",
       "Date                               \n",
       "2020-04-29  194.190002   186.228683\n",
       "2020-04-30  204.710007   188.039474\n",
       "2020-05-01  202.270004   191.079285\n",
       "2020-05-04  205.259995   194.187027\n",
       "2020-05-05  207.070007   197.356628\n",
       "...                ...          ...\n",
       "2022-03-01  203.490005   212.507294\n",
       "2022-03-02  208.110001   211.934204\n",
       "2022-03-03  202.970001   211.753128\n",
       "2022-03-04  200.059998   211.219437\n",
       "2022-03-07  187.470001   210.273270\n",
       "\n",
       "[468 rows x 2 columns]"
      ]
     },
     "execution_count": 18,
     "metadata": {},
     "output_type": "execute_result"
    }
   ],
   "source": [
    "valid"
   ]
  },
  {
   "cell_type": "code",
   "execution_count": 23,
   "id": "f9d1f6fb",
   "metadata": {},
   "outputs": [
    {
     "name": "stdout",
     "output_type": "stream",
     "text": [
      "[[207.89514]]\n"
     ]
    }
   ],
   "source": [
    "fb_quote = web.DataReader('FB', data_source='yahoo',start='2012-01-01', end='2022-03-07')\n",
    "new_df = fb_quote.filter(['Close'])\n",
    "last_60_days = new_df[-60:].values\n",
    "last_60_days_scaled = scaler.transform(last_60_days)\n",
    "X_test=[]\n",
    "X_test.append(last_60_days_scaled)\n",
    "X_test = np.array(X_test)\n",
    "X_test = np.reshape(X_test, (X_test.shape[0], X_test.shape[1], 1))\n",
    "pred_price = model.predict(X_test)\n",
    "pred_price = scaler.inverse_transform(pred_price)\n",
    "print(pred_price)"
   ]
  },
  {
   "cell_type": "code",
   "execution_count": 24,
   "id": "3e330947",
   "metadata": {},
   "outputs": [
    {
     "name": "stdout",
     "output_type": "stream",
     "text": [
      "Date\n",
      "2022-02-28    211.029999\n",
      "2022-03-01    203.490005\n",
      "2022-03-02    208.110001\n",
      "2022-03-03    202.970001\n",
      "2022-03-04    200.059998\n",
      "2022-03-07    187.470001\n",
      "Name: Close, dtype: float64\n"
     ]
    }
   ],
   "source": [
    "fb_quote2 = web.DataReader('FB', data_source='yahoo',start='2022-03-01', end='2022-03-07')\n",
    "print(fb_quote2['Close'])"
   ]
  },
  {
   "cell_type": "code",
   "execution_count": null,
   "id": "1773dd14",
   "metadata": {},
   "outputs": [],
   "source": []
  }
 ],
 "metadata": {
  "kernelspec": {
   "display_name": "Python 3 (ipykernel)",
   "language": "python",
   "name": "python3"
  },
  "language_info": {
   "codemirror_mode": {
    "name": "ipython",
    "version": 3
   },
   "file_extension": ".py",
   "mimetype": "text/x-python",
   "name": "python",
   "nbconvert_exporter": "python",
   "pygments_lexer": "ipython3",
   "version": "3.9.7"
  }
 },
 "nbformat": 4,
 "nbformat_minor": 5
}
