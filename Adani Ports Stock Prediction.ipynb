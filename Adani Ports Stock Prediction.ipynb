{
 "cells": [
  {
   "cell_type": "code",
   "execution_count": 1,
   "id": "77585ae8",
   "metadata": {},
   "outputs": [],
   "source": [
    "import math\n",
    "import pandas_datareader as web\n",
    "import numpy as np\n",
    "import pandas as pd\n",
    "from sklearn.preprocessing import MinMaxScaler\n",
    "from keras.models import Sequential\n",
    "from keras.layers import Dense, LSTM\n",
    "import matplotlib.pyplot as plt"
   ]
  },
  {
   "cell_type": "code",
   "execution_count": 2,
   "id": "1ed38b99",
   "metadata": {},
   "outputs": [
    {
     "data": {
      "text/html": [
       "<div>\n",
       "<style scoped>\n",
       "    .dataframe tbody tr th:only-of-type {\n",
       "        vertical-align: middle;\n",
       "    }\n",
       "\n",
       "    .dataframe tbody tr th {\n",
       "        vertical-align: top;\n",
       "    }\n",
       "\n",
       "    .dataframe thead th {\n",
       "        text-align: right;\n",
       "    }\n",
       "</style>\n",
       "<table border=\"1\" class=\"dataframe\">\n",
       "  <thead>\n",
       "    <tr style=\"text-align: right;\">\n",
       "      <th></th>\n",
       "      <th>High</th>\n",
       "      <th>Low</th>\n",
       "      <th>Open</th>\n",
       "      <th>Close</th>\n",
       "      <th>Volume</th>\n",
       "      <th>Adj Close</th>\n",
       "    </tr>\n",
       "    <tr>\n",
       "      <th>Date</th>\n",
       "      <th></th>\n",
       "      <th></th>\n",
       "      <th></th>\n",
       "      <th></th>\n",
       "      <th></th>\n",
       "      <th></th>\n",
       "    </tr>\n",
       "  </thead>\n",
       "  <tbody>\n",
       "    <tr>\n",
       "      <th>2012-01-02</th>\n",
       "      <td>123.750000</td>\n",
       "      <td>111.000000</td>\n",
       "      <td>122.800003</td>\n",
       "      <td>114.699997</td>\n",
       "      <td>1572363.0</td>\n",
       "      <td>108.697311</td>\n",
       "    </tr>\n",
       "    <tr>\n",
       "      <th>2012-01-03</th>\n",
       "      <td>120.900002</td>\n",
       "      <td>115.000000</td>\n",
       "      <td>117.500000</td>\n",
       "      <td>120.300003</td>\n",
       "      <td>1385662.0</td>\n",
       "      <td>114.004265</td>\n",
       "    </tr>\n",
       "    <tr>\n",
       "      <th>2012-01-04</th>\n",
       "      <td>123.500000</td>\n",
       "      <td>118.000000</td>\n",
       "      <td>121.000000</td>\n",
       "      <td>122.849998</td>\n",
       "      <td>1259249.0</td>\n",
       "      <td>116.420792</td>\n",
       "    </tr>\n",
       "    <tr>\n",
       "      <th>2012-01-05</th>\n",
       "      <td>127.599998</td>\n",
       "      <td>121.300003</td>\n",
       "      <td>122.000000</td>\n",
       "      <td>126.699997</td>\n",
       "      <td>788405.0</td>\n",
       "      <td>120.069298</td>\n",
       "    </tr>\n",
       "    <tr>\n",
       "      <th>2012-01-06</th>\n",
       "      <td>128.750000</td>\n",
       "      <td>124.300003</td>\n",
       "      <td>126.250000</td>\n",
       "      <td>127.699997</td>\n",
       "      <td>1036623.0</td>\n",
       "      <td>121.016975</td>\n",
       "    </tr>\n",
       "    <tr>\n",
       "      <th>...</th>\n",
       "      <td>...</td>\n",
       "      <td>...</td>\n",
       "      <td>...</td>\n",
       "      <td>...</td>\n",
       "      <td>...</td>\n",
       "      <td>...</td>\n",
       "    </tr>\n",
       "    <tr>\n",
       "      <th>2022-02-28</th>\n",
       "      <td>709.650024</td>\n",
       "      <td>684.500000</td>\n",
       "      <td>690.000000</td>\n",
       "      <td>707.500000</td>\n",
       "      <td>4288186.0</td>\n",
       "      <td>707.500000</td>\n",
       "    </tr>\n",
       "    <tr>\n",
       "      <th>2022-03-02</th>\n",
       "      <td>717.900024</td>\n",
       "      <td>697.599976</td>\n",
       "      <td>702.950012</td>\n",
       "      <td>710.299988</td>\n",
       "      <td>4448558.0</td>\n",
       "      <td>710.299988</td>\n",
       "    </tr>\n",
       "    <tr>\n",
       "      <th>2022-03-03</th>\n",
       "      <td>724.599976</td>\n",
       "      <td>703.000000</td>\n",
       "      <td>718.799988</td>\n",
       "      <td>706.700012</td>\n",
       "      <td>7533817.0</td>\n",
       "      <td>706.700012</td>\n",
       "    </tr>\n",
       "    <tr>\n",
       "      <th>2022-03-04</th>\n",
       "      <td>710.700012</td>\n",
       "      <td>689.049988</td>\n",
       "      <td>699.900024</td>\n",
       "      <td>700.150024</td>\n",
       "      <td>7941457.0</td>\n",
       "      <td>700.150024</td>\n",
       "    </tr>\n",
       "    <tr>\n",
       "      <th>2022-03-07</th>\n",
       "      <td>691.700012</td>\n",
       "      <td>663.549988</td>\n",
       "      <td>690.000000</td>\n",
       "      <td>677.799988</td>\n",
       "      <td>4890771.0</td>\n",
       "      <td>677.799988</td>\n",
       "    </tr>\n",
       "  </tbody>\n",
       "</table>\n",
       "<p>2509 rows × 6 columns</p>\n",
       "</div>"
      ],
      "text/plain": [
       "                  High         Low        Open       Close     Volume  \\\n",
       "Date                                                                    \n",
       "2012-01-02  123.750000  111.000000  122.800003  114.699997  1572363.0   \n",
       "2012-01-03  120.900002  115.000000  117.500000  120.300003  1385662.0   \n",
       "2012-01-04  123.500000  118.000000  121.000000  122.849998  1259249.0   \n",
       "2012-01-05  127.599998  121.300003  122.000000  126.699997   788405.0   \n",
       "2012-01-06  128.750000  124.300003  126.250000  127.699997  1036623.0   \n",
       "...                ...         ...         ...         ...        ...   \n",
       "2022-02-28  709.650024  684.500000  690.000000  707.500000  4288186.0   \n",
       "2022-03-02  717.900024  697.599976  702.950012  710.299988  4448558.0   \n",
       "2022-03-03  724.599976  703.000000  718.799988  706.700012  7533817.0   \n",
       "2022-03-04  710.700012  689.049988  699.900024  700.150024  7941457.0   \n",
       "2022-03-07  691.700012  663.549988  690.000000  677.799988  4890771.0   \n",
       "\n",
       "             Adj Close  \n",
       "Date                    \n",
       "2012-01-02  108.697311  \n",
       "2012-01-03  114.004265  \n",
       "2012-01-04  116.420792  \n",
       "2012-01-05  120.069298  \n",
       "2012-01-06  121.016975  \n",
       "...                ...  \n",
       "2022-02-28  707.500000  \n",
       "2022-03-02  710.299988  \n",
       "2022-03-03  706.700012  \n",
       "2022-03-04  700.150024  \n",
       "2022-03-07  677.799988  \n",
       "\n",
       "[2509 rows x 6 columns]"
      ]
     },
     "execution_count": 2,
     "metadata": {},
     "output_type": "execute_result"
    }
   ],
   "source": [
    "df = web.DataReader('ADANIPORTS.NS', data_source='yahoo',start='2012-01-01', end='2022-03-07')\n",
    "df"
   ]
  },
  {
   "cell_type": "code",
   "execution_count": 73,
   "id": "43341ee8",
   "metadata": {},
   "outputs": [
    {
     "data": {
      "text/plain": [
       "1983"
      ]
     },
     "execution_count": 73,
     "metadata": {},
     "output_type": "execute_result"
    }
   ],
   "source": [
    "data = df.filter(['Close'])\n",
    "dataset=data.values\n",
    "training_data_len = math.ceil(len(dataset)*.79)\n",
    "training_data_len"
   ]
  },
  {
   "cell_type": "code",
   "execution_count": 74,
   "id": "cf312909",
   "metadata": {},
   "outputs": [
    {
     "data": {
      "image/png": "[encoded data removed]",
      "text/plain": [
       "<Figure size 1152x576 with 1 Axes>"
      ]
     },
     "metadata": {
      "needs_background": "light"
     },
     "output_type": "display_data"
    }
   ],
   "source": [
    "plt.figure(figsize=(16,8))\n",
    "plt.title('Close Price History')\n",
    "plt.plot(df['Close'])\n",
    "plt.xlabel('Date',fontsize=18)\n",
    "plt.ylabel('Close Price (INR)',fontsize=18)\n",
    "plt.show()"
   ]
  },
  {
   "cell_type": "code",
   "execution_count": 75,
   "id": "064f2730",
   "metadata": {},
   "outputs": [
    {
     "data": {
      "text/plain": [
       "array([[0.00869452],\n",
       "       [0.01596159],\n",
       "       [0.0192707 ],\n",
       "       ...,\n",
       "       [0.77692711],\n",
       "       [0.76842726],\n",
       "       [0.73942383]])"
      ]
     },
     "execution_count": 75,
     "metadata": {},
     "output_type": "execute_result"
    }
   ],
   "source": [
    "scaler = MinMaxScaler(feature_range=(0,1))\n",
    "scaled_data = scaler.fit_transform(dataset)\n",
    "scaled_data"
   ]
  },
  {
   "cell_type": "code",
   "execution_count": 76,
   "id": "d3abb930",
   "metadata": {},
   "outputs": [
    {
     "name": "stdout",
     "output_type": "stream",
     "text": [
      "[array([0.00869452, 0.01596159, 0.0192707 , 0.0242668 , 0.02556449,\n",
      "       0.0314041 , 0.03691928, 0.0376979 , 0.03198805, 0.03056061,\n",
      "       0.03056061, 0.04152608, 0.04373215, 0.05372436, 0.06151051,\n",
      "       0.05028549, 0.05456787, 0.04567869, 0.05073969, 0.03944977,\n",
      "       0.04963665, 0.04658707, 0.05580068, 0.05482741, 0.05203738,\n",
      "       0.04042304, 0.0419154 , 0.03886582, 0.04528938, 0.04548404,\n",
      "       0.04691149, 0.05080456, 0.05138854, 0.05515183, 0.05794186,\n",
      "       0.0465222 , 0.04678173, 0.04502984, 0.04626265, 0.05203738,\n",
      "       0.0527511 , 0.05041527, 0.05106412, 0.04567869, 0.04613289,\n",
      "       0.04833896, 0.03503763, 0.02841941, 0.02997665, 0.0360109 ,\n",
      "       0.03120945, 0.0326369 , 0.03094992, 0.03159876, 0.03004152,\n",
      "       0.02322866, 0.02004931, 0.01628602, 0.01751882, 0.01330132])]\n",
      "[0.021022576513740815]\n",
      "\n"
     ]
    }
   ],
   "source": [
    "train_data = scaled_data[0:training_data_len , :]\n",
    "x_train = []\n",
    "y_train = []\n",
    "\n",
    "for i in range(60, len(train_data)):\n",
    "    x_train.append(train_data[i-60:i, 0])\n",
    "    y_train.append(train_data[i, 0])\n",
    "    if i<=60:\n",
    "        print(x_train)\n",
    "        print(y_train)\n",
    "        print()"
   ]
  },
  {
   "cell_type": "code",
   "execution_count": 77,
   "id": "f612ddc6",
   "metadata": {},
   "outputs": [],
   "source": [
    "x_train,y_train = np.array(x_train), np.array(y_train)"
   ]
  },
  {
   "cell_type": "code",
   "execution_count": 78,
   "id": "223c58cd",
   "metadata": {},
   "outputs": [
    {
     "data": {
      "text/plain": [
       "(1923, 60, 1)"
      ]
     },
     "execution_count": 78,
     "metadata": {},
     "output_type": "execute_result"
    }
   ],
   "source": [
    "x_train = np.reshape(x_train,(x_train.shape[0],x_train.shape[1], 1))\n",
    "x_train.shape"
   ]
  },
  {
   "cell_type": "code",
   "execution_count": 79,
   "id": "20e44408",
   "metadata": {},
   "outputs": [],
   "source": [
    "model = Sequential()\n",
    "model.add(LSTM(50, return_sequences=True, input_shape = (x_train.shape[1],1)))\n",
    "model.add(LSTM(50, return_sequences=False))\n",
    "model.add(Dense(25))\n",
    "model.add(Dense(1))"
   ]
  },
  {
   "cell_type": "code",
   "execution_count": 80,
   "id": "8df85c45",
   "metadata": {},
   "outputs": [],
   "source": [
    "model.compile(optimizer='adam',loss='mean_squared_error')"
   ]
  },
  {
   "cell_type": "code",
   "execution_count": 81,
   "id": "0720a949",
   "metadata": {},
   "outputs": [
    {
     "name": "stdout",
     "output_type": "stream",
     "text": [
      "1923/1923 [==============================] - 33s 16ms/step - loss: 5.6580e-04\n"
     ]
    },
    {
     "data": {
      "text/plain": [
       "<keras.callbacks.History at 0x1817ef30fd0>"
      ]
     },
     "execution_count": 81,
     "metadata": {},
     "output_type": "execute_result"
    }
   ],
   "source": [
    "model.fit(x_train, y_train, batch_size=1, epochs=1)"
   ]
  },
  {
   "cell_type": "code",
   "execution_count": 82,
   "id": "51d28c57",
   "metadata": {},
   "outputs": [],
   "source": [
    "test_data = scaled_data[training_data_len-60: , :]\n",
    "x_test=[]\n",
    "y_test=dataset[training_data_len:, :]\n",
    "for i in range(60, len(test_data)):\n",
    "    x_test.append(test_data[i-60:i, 0])"
   ]
  },
  {
   "cell_type": "code",
   "execution_count": 83,
   "id": "57b21437",
   "metadata": {},
   "outputs": [],
   "source": [
    "x_test = np.array(x_test)"
   ]
  },
  {
   "cell_type": "code",
   "execution_count": 84,
   "id": "7672b1bd",
   "metadata": {},
   "outputs": [],
   "source": [
    "x_test = np.reshape(x_test, (x_test.shape[0], x_test.shape[1], 1))"
   ]
  },
  {
   "cell_type": "code",
   "execution_count": 85,
   "id": "a942038f",
   "metadata": {},
   "outputs": [],
   "source": [
    "predictions = model.predict(x_test)\n",
    "predictions = scaler.inverse_transform(predictions)"
   ]
  },
  {
   "cell_type": "code",
   "execution_count": 86,
   "id": "7176b2ab",
   "metadata": {},
   "outputs": [
    {
     "data": {
      "text/plain": [
       "12.184475162636645"
      ]
     },
     "execution_count": 86,
     "metadata": {},
     "output_type": "execute_result"
    }
   ],
   "source": [
    "rmse = np.sqrt(np.mean(predictions - y_test)**2)\n",
    "rmse"
   ]
  },
  {
   "cell_type": "code",
   "execution_count": 87,
   "id": "ed8cd86b",
   "metadata": {},
   "outputs": [
    {
     "name": "stderr",
     "output_type": "stream",
     "text": [
      "C:\\Users\\kapoo\\AppData\\Local\\Temp/ipykernel_2816/2133332622.py:3: SettingWithCopyWarning: \n",
      "A value is trying to be set on a copy of a slice from a DataFrame.\n",
      "Try using .loc[row_indexer,col_indexer] = value instead\n",
      "\n",
      "See the caveats in the documentation: https://pandas.pydata.org/pandas-docs/stable/user_guide/indexing.html#returning-a-view-versus-a-copy\n",
      "  valid['Predictions'] = predictions\n"
     ]
    },
    {
     "data": {
      "image/png": "[encoded data removed]",
      "text/plain": [
       "<Figure size 1152x576 with 1 Axes>"
      ]
     },
     "metadata": {
      "needs_background": "light"
     },
     "output_type": "display_data"
    }
   ],
   "source": [
    "train = data[:training_data_len]\n",
    "valid = data[training_data_len:]\n",
    "valid['Predictions'] = predictions\n",
    "plt.figure(figsize=(16,8))\n",
    "plt.title('Model')\n",
    "plt.xlabel('Date',fontsize=18)\n",
    "plt.ylabel('Close Price (USD)',fontsize=18)\n",
    "plt.plot(train['Close'])\n",
    "plt.plot(valid[['Close','Predictions']])\n",
    "plt.legend(['Train', 'Val', 'Predictions'], loc ='lower right')\n",
    "plt.show()"
   ]
  },
  {
   "cell_type": "code",
   "execution_count": 88,
   "id": "64d55113",
   "metadata": {},
   "outputs": [
    {
     "data": {
      "text/html": [
       "<div>\n",
       "<style scoped>\n",
       "    .dataframe tbody tr th:only-of-type {\n",
       "        vertical-align: middle;\n",
       "    }\n",
       "\n",
       "    .dataframe tbody tr th {\n",
       "        vertical-align: top;\n",
       "    }\n",
       "\n",
       "    .dataframe thead th {\n",
       "        text-align: right;\n",
       "    }\n",
       "</style>\n",
       "<table border=\"1\" class=\"dataframe\">\n",
       "  <thead>\n",
       "    <tr style=\"text-align: right;\">\n",
       "      <th></th>\n",
       "      <th>Close</th>\n",
       "      <th>Predictions</th>\n",
       "    </tr>\n",
       "    <tr>\n",
       "      <th>Date</th>\n",
       "      <th></th>\n",
       "      <th></th>\n",
       "    </tr>\n",
       "  </thead>\n",
       "  <tbody>\n",
       "    <tr>\n",
       "      <th>2020-01-24</th>\n",
       "      <td>384.750000</td>\n",
       "      <td>392.794373</td>\n",
       "    </tr>\n",
       "    <tr>\n",
       "      <th>2020-01-27</th>\n",
       "      <td>381.250000</td>\n",
       "      <td>392.644836</td>\n",
       "    </tr>\n",
       "    <tr>\n",
       "      <th>2020-01-28</th>\n",
       "      <td>372.950012</td>\n",
       "      <td>392.144897</td>\n",
       "    </tr>\n",
       "    <tr>\n",
       "      <th>2020-01-29</th>\n",
       "      <td>383.350006</td>\n",
       "      <td>390.307526</td>\n",
       "    </tr>\n",
       "    <tr>\n",
       "      <th>2020-01-30</th>\n",
       "      <td>378.000000</td>\n",
       "      <td>389.819672</td>\n",
       "    </tr>\n",
       "    <tr>\n",
       "      <th>...</th>\n",
       "      <td>...</td>\n",
       "      <td>...</td>\n",
       "    </tr>\n",
       "    <tr>\n",
       "      <th>2022-02-28</th>\n",
       "      <td>707.500000</td>\n",
       "      <td>671.689575</td>\n",
       "    </tr>\n",
       "    <tr>\n",
       "      <th>2022-03-02</th>\n",
       "      <td>710.299988</td>\n",
       "      <td>671.111206</td>\n",
       "    </tr>\n",
       "    <tr>\n",
       "      <th>2022-03-03</th>\n",
       "      <td>706.700012</td>\n",
       "      <td>673.330139</td>\n",
       "    </tr>\n",
       "    <tr>\n",
       "      <th>2022-03-04</th>\n",
       "      <td>700.150024</td>\n",
       "      <td>675.829834</td>\n",
       "    </tr>\n",
       "    <tr>\n",
       "      <th>2022-03-07</th>\n",
       "      <td>677.799988</td>\n",
       "      <td>677.020691</td>\n",
       "    </tr>\n",
       "  </tbody>\n",
       "</table>\n",
       "<p>526 rows × 2 columns</p>\n",
       "</div>"
      ],
      "text/plain": [
       "                 Close  Predictions\n",
       "Date                               \n",
       "2020-01-24  384.750000   392.794373\n",
       "2020-01-27  381.250000   392.644836\n",
       "2020-01-28  372.950012   392.144897\n",
       "2020-01-29  383.350006   390.307526\n",
       "2020-01-30  378.000000   389.819672\n",
       "...                ...          ...\n",
       "2022-02-28  707.500000   671.689575\n",
       "2022-03-02  710.299988   671.111206\n",
       "2022-03-03  706.700012   673.330139\n",
       "2022-03-04  700.150024   675.829834\n",
       "2022-03-07  677.799988   677.020691\n",
       "\n",
       "[526 rows x 2 columns]"
      ]
     },
     "execution_count": 88,
     "metadata": {},
     "output_type": "execute_result"
    }
   ],
   "source": [
    "valid"
   ]
  },
  {
   "cell_type": "code",
   "execution_count": 89,
   "id": "1a763053",
   "metadata": {},
   "outputs": [
    {
     "name": "stdout",
     "output_type": "stream",
     "text": [
      "[[673.77386]]\n"
     ]
    }
   ],
   "source": [
    "adaniport_quote = web.DataReader('ADANIPORTS.NS', data_source='yahoo',start='2012-01-01', end='2022-03-08')\n",
    "new_df = adaniport_quote.filter(['Close'])\n",
    "last_60_days = new_df[-60:].values\n",
    "last_60_days_scaled = scaler.transform(last_60_days)\n",
    "X_test=[]\n",
    "X_test.append(last_60_days_scaled)\n",
    "X_test = np.array(X_test)\n",
    "X_test = np.reshape(X_test, (X_test.shape[0], X_test.shape[1], 1))\n",
    "pred_price = model.predict(X_test)\n",
    "pred_price = scaler.inverse_transform(pred_price)\n",
    "print(pred_price)"
   ]
  },
  {
   "cell_type": "code",
   "execution_count": 90,
   "id": "807b46df",
   "metadata": {},
   "outputs": [
    {
     "name": "stdout",
     "output_type": "stream",
     "text": [
      "Date\n",
      "2022-03-02    710.299988\n",
      "2022-03-03    706.700012\n",
      "2022-03-04    700.150024\n",
      "2022-03-07    677.799988\n",
      "Name: Close, dtype: float64\n"
     ]
    }
   ],
   "source": [
    "adaniport_quote2 = web.DataReader('ADANIPORTS.NS', data_source='yahoo',start='2022-03-01', end='2022-03-08')\n",
    "print(adaniport_quote2['Close'])"
   ]
  },
  {
   "cell_type": "code",
   "execution_count": null,
   "id": "1b953b36",
   "metadata": {},
   "outputs": [],
   "source": []
  }
 ],
 "metadata": {
  "kernelspec": {
   "display_name": "Python 3 (ipykernel)",
   "language": "python",
   "name": "python3"
  },
  "language_info": {
   "codemirror_mode": {
    "name": "ipython",
    "version": 3
   },
   "file_extension": ".py",
   "mimetype": "text/x-python",
   "name": "python",
   "nbconvert_exporter": "python",
   "pygments_lexer": "ipython3",
   "version": "3.9.7"
  }
 },
 "nbformat": 4,
 "nbformat_minor": 5
}
